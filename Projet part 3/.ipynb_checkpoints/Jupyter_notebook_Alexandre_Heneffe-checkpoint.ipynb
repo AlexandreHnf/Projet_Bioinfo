{
 "cells": [
  {
   "cell_type": "markdown",
   "metadata": {},
   "source": [
    "# INFO-F-208 Bio-Informatique - Projet 3 - Prédiction de la structure secondaire avec GOR III -- Alexandre Heneffe -- 000440761 -- 17/12/2018\n",
    "Ce document \"jupyter notebook\" nous introduit et nous décrit les différents algorithmes implémentés dans le cadre du Mini Projet 3 du cours \"Introduction à la bioinformatique\"\n",
    "\n",
    "## Introduction\n",
    "\n",
    "Dans les projets précédents, nous avons du procéder à l'alignement de séquences d'acides aminés afin de trouver \n",
    "\n",
    "## Matériel\n",
    "\n",
    "## Méthode & Implémentation\n",
    "\n",
    "## Résultats & Discussion\n",
    "\n",
    "## Conclusion\n"
   ]
  }
 ],
 "metadata": {
  "kernelspec": {
   "display_name": "Python 3",
   "language": "python",
   "name": "python3"
  },
  "language_info": {
   "codemirror_mode": {
    "name": "ipython",
    "version": 3
   },
   "file_extension": ".py",
   "mimetype": "text/x-python",
   "name": "python",
   "nbconvert_exporter": "python",
   "pygments_lexer": "ipython3",
   "version": "3.7.0"
  }
 },
 "nbformat": 4,
 "nbformat_minor": 2
}
