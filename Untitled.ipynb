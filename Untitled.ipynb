{
 "cells": [
  {
   "cell_type": "markdown",
   "metadata": {},
   "source": [
    "# INFO-F-208 - Projet 2 -- Alexandre Heneffe -- 09/11/2018\n",
    "Ce document \"jupyter notebook\" nous introduit et nous décrit les différents algorithmes implémentés dans le cadre du Mini Projet 2 du cours \"Introduction à la bioinformatique\"\n",
    "\n",
    "## Introduction\n",
    "\n",
    "Dans le cadre du projet précédent, nous avons du implémenter des algorithmes permettant d'aligner des paires de séquences d'acides aminés. Malheureusement, ces alignements ne sont pas toujours les meilleurs. \n",
    "\n",
    "Un moyen pour améliorer la qualité de ces alignements est d'aligner plusieurs séquences. Nous allons ensuite représenter ces alignements multiples sous forme d'une matrice \"PSSM\" (Position Specitif Scoring Matrices), ou plus communément appelée \"Profil\".\n",
    "\n",
    "Notre but final est d'adapter nos algorithmes d'alignement de séquences vers un système qui peut aligner des séquences de protéines à des profils. Un PSSM représente un domaine particulier. Ici, nous travaillons avec les Bromo Domaines (Les bromodomaines sont des modules interactifs reconnaissant les sites d'acétylation (réactions chimiques) dans les protéines. Les BRD sont notamment intéressantes pour développer de nouvelles thérapies pour le cancer humain ou pour la sclérose en plaques par exemple.). \n",
    "\n",
    "Le fait d'aligner des séquences protéines à ces PSSM représentant des bromo domaine, nous permettra d'identifier si celles-ci contiennent des bromo domaines. \n",
    "\n",
    "## Matériel \n",
    "\n",
    "Nous disposons de différents \"dataset\" (ensemble de données) permettant d'analyser des séquences: \n",
    "\n",
    "### Smart\n",
    "Le site \"Smart\" possède une base de données qui répertorie un grand nombre de séquences. Ceux qui nous intéressent sont les séquences qui représentent la famille Bromo. Il y a 14324 domaines du type Bromo. Nous choisissons les 223 séquences liées aux domaines Bromo des protéines humaines. (Eukaryotes => Metazoa => Chordata => Mammalia => Primates => Hominidae => Homo => Homo Sapiens)\n",
    "\n",
    "\n",
    "### Réduit\n",
    "certaines séquences parmi les 223 séquences du domaine Bromo de type humain sont trop similaires (certaines séquences sont identiques, mais avec des noms différents). De ce fait, nous créons un autre ensemble de séquences dont le score de similarité maximal entre eux est de 60%.\n",
    "\n",
    "=> Pour retirer les séquences qui induisaient un score de similarité de plus de 60%, nous avons procédé ainsi:\n",
    "\n",
    "De manière itérative, nous créons une liste de séquences. A chaque ajout d'une séquence dans la liste, nous verifions que celle-ci est similaire à toutes les autres séquences de la liste à moins de 60%. Si ce n'est pas le cas, nous ne l'ajoutons pas à la liste. Le processus est un petit peu biaisée car en effet, l'ordre dans lequel les séquences sont placées dans la liste privilégie les premiers choisis.\n",
    "\n",
    "Au final, nous obtenons un fichier avec une série de séquences ayant moins de 60% de similarité entre elles.\n",
    "\n",
    "### MSA\n",
    "\n",
    "Les séquences recueillies sur le site Smart (les 223 séquences du domaine Bromo de type humain) vont être alignées à l'aide de l'outil \"MUSCLE\".\n",
    "\n",
    "Cet outil va procéder à un MSA (Multiple Sequence Alignment), c'est-à-dire un alignement de séquences multiple.\n",
    "\n",
    "L'algorithme MUSCLE procède en 3 étapes: Un alignement progressif, une amélioration progressive, une étape de raffinement. Il met en avant la rapidité plutot que la précision. \n",
    "\n",
    "Sans raffinement, la précision moyenne de MUSCLE est statistiquement impossible à distinguer de cette de T-Coffee ou CLUSTAL. Mais MUSCLE est la méthode la plus rapide. Il peut aligner 5000 séquences d'une longueur moyenne de 350 en 7 minutes.\n",
    "\n",
    "Nous alignons également les séquences réduites (moins de 60% de similarité) avec le même outil \"MUSCLE\".\n",
    "\n",
    "### Protéines\n",
    "\n",
    "Nous disposons également de 2 grosses séquences protéiques qui serons alignées aux profils afin de déterminer si elles contiennent un bromodomaine représenté par le profil.\n",
    "\n",
    ">sp|P21675|TAF1_HUMAN Transcription initiation factor TFIID subunit 1 OS=Homo sapiens OX=9606 GN=TAF1 PE=1 SV=2\n",
    "MGPGCDLLLRTAATITAAAIMSDTDSDEDSAGGGPFSLAGFLFGNINGAGQLEGESVLDDECKKHLAGLGALGLGSLITELTANEELTGTDGALVNDEGWVRSTEDAVDYSDINEVAEDESRRYQQTMGSLQPLCHSDYDEDDYDADCEDIDCKLMPPPPPPPGPMKKDKDQDSITGEKVDFSSSSDSESEMGPQEATQAESEDGKLTLPLAGIMQHDATKLLPSVTELFPEFRPGKVLRFLRLFGPGKNVPSVWRSARRKRKKKHRELIQEEQIQEVECSVESEVSQKSLWNYDYAPPPPPEQCLSDDEITMMAPVESKFSQSTGDIDKVTDTKPRVAEWRYGPARLWYDMLGVPEDGSGFDYGFKLRKTEHEPVIKSRMIEEFRKLEENNGTDLLADENFLMVTQLHWEDDIIWDGEDVKHKGTKPQRASLAGWLPSSMTRNAMAYNVQQGFAATLDDDKPWYSIFPIDNEDLVYGRWEDNIIWDAQAMPRLLEPPVLTLDPNDENLILEIPDEKEEATSNSPSKESKKESSLKKSRILLGKTGVIKEEPQQNMSQPEVKDPWNLSNDEYYYPKQQGLRGTFGGNIIQHSIPAVELRQPFFPTHMGPIKLRQFHRPPLKKYSFGALSQPGPHSVQPLLKHIKKKAKMREQERQASGGGEMFFMRTPQDLTGKDGDLILAEYSEENGPLMMQVGMATKIKNYYKRKPGKDPGAPDCKYGETVYCHTSPFLGSLHPGQLLQAFENNLFRAPIYLHKMPETDFLIIRTRQGYYIRELVDIFVVGQQCPLFEVPGPNSKRANTHIRDFLQVFIYRLFWKSKDRPRRIRMEDIKKAFPSHSESSIRKRLKLCADFKRTGMDSNWWVLKSDFRLPTEEEIRAMVSPEQCCAYYSMIAAEQRLKDAGYGEKSFFAPEEENEEDFQMKIDDEVRTAPWNTTRAFIAAMKGKCLLEVTGVADPTGCGEGFSYVKIPNKPTQQKDDKEPQPVKKTVTGTDADLRRLSLKNAKQLLRKFGVPEEEIKKLSRWEVIDVVRTMSTEQARSGEGPMSKFARGSRFSVAEHQERYKEECQRIFDLQNKVLSSTEVLSTDTDSSSAEDSDFEEMGKNIENMLQNKKTSSQLSREREEQERKELQRMLLAAGSAASGNNHRDDDTASVTSLNSSATGRCLKIYRTFRDEEGKEYVRCETVRKPAVIDAYVRIRTTKDEEFIRKFALFDEQHREEMRKERRRIQEQLRRLKRNQEKEKLKGPPEKKPKKMKERPDLKLKCGACGAIGHMRTNKFCPLYYQTNAPPSNPVAMTEEQEEELEKTVIHNDNEELIKVEGTKIVLGKQLIESADEVRRKSLVLKFPKQQLPPKKKRRVGTTVHCDYLNRPHKSIHRRRTDPMVTLSSILESIINDMRDLPNTYPFHTPVNAKVVKDYYKIITRPMDLQTLRENVRKRLYPSREEFREHLELIVKNSATYNGPKHSLTQISQSMLDLCDEKLKEKEDKLARLEKAINPLLDDDDQVAFSFILDNIVTQKMMAVPDSWPFHHPVNKKFVPDYYKVIVNPMDLETIRKNISKHKYQSRESFLDDVNLILANSVKYNGPESQYTKTAQEIVNVCYQTLTEYDEHLTQLEKDICTAKEAALEEAELESLDPMTPGPYTPQPPDLYDTNTSLSMSRDASVFQDESNMSVLDIPSATPEKQVTQEGEDGDGDLADEEEGTVQQPQASVLYEDLLMSEGEDDEEDAGSDEEGDNPFSAIQLSESGSDSDVGSGGIRPKQPRMLQENTRMDMENEESMMSYEGDGGEASHGLEDSNISYGSYEEPDPKSNTQDTSFSSIGGYEVSEEEEDEEEEEQRSGPSVLSQVHLSEDEEDSEDFHSIAGDSDLDSDE\n",
    "\n",
    ">sp|Q86U86|PB1_HUMAN Protein polybromo-1 OS=Homo sapiens OX=9606 GN=PBRM1 PE=1 SV=1\n",
    "MGSKRRRATSPSSSVSGDFDDGHHSVSTPGPSRKRRRLSNLPTVDPIAVCHELYNTIRDYKDEQGRLLCELFIRAPKRRNQPDYYEVVSQPIDLMKIQQKLKMEEYDDVNLLTADFQLLFNNAKSYYKPDSPEYKAACKLWDLYLRTRNEFVQKGEADDEDDDEDGQDNQGTVTEGSSPAYLKEILEQLLEAIVVATNPSGRLISELFQKLPSKVQYPDYYAIIKEPIDLKTIAQRIQNGSYKSIHAMAKDIDLLAKNAKTYNEPGSQVFKDANSIKKIFYMKKAEIEHHEMAKSSLRMRTPSNLAAARLTGPSHSKGSLGEERNPTSKYYRNKRAVQGGRLSAITMALQYGSESEEDAALAAARYEEGESEAESITSFMDVSNPFYQLYDTVRSCRNNQGQLIAEPFYHLPSKKKYPDYYQQIKMPISLQQIRTKLKNQEYETLDHLECDLNLMFENAKRYNVPNSAIYKRVLKLQQVMQAKKKELARRDDIEDGDSMISSATSDTGSAKRKSKKNIRKQRMKILFNVVLEAREPGSGRRLCDLFMVKPSKKDYPDYYKIILEPMDLKIIEHNIRNDKYAGEEGMIEDMKLMFRNARHYNEEGSQVYNDAHILEKLLKEKRKELGPLPDDDDMASPKLKLSRKSGISPKKSKYMTPMQQKLNEVYEAVKNYTDKRGRRLSAIFLRLPSRSELPDYYLTIKKPMDMEKIRSHMMANKYQDIDSMVEDFVMMFNNACTYNEPESLIYKDALVLHKVLLETRRDLEGDEDSHVPNVTLLIQELIHNLFVSVMSHQDDEGRCYSDSLAEIPAVDPNFPNKPPLTFDIIRKNVENNRYRRLDLFQEHMFEVLERARRMNRTDSEIYEDAVELQQFFIKIRDELCKNGEILLSPALSYTTKHLHNDVEKERKEKLPKEIEEDKLKREEEKREAEKSEDSSGAAGLSGLHRTYSQDCSFKNSMYHVGDYVYVEPAEANLQPHIVCIERLWEDSAGEKWLYGCWFYRPNETFHLATRKFLEKEVFKSDYYNKVPVSKILGKCVVMFVKEYFKLCPENFRDEDVFVCESRYSAKTKSFKKIKLWTMPISSVRFVPRDVPLPVVRVASVFANADKGDDEKNTDNSEDSRAEDNFNLEKEKEDVPVEMSNGEPGCHYFEQLHYNDMWLKVGDCVFIKSHGLVRPRVGRIEKVWVRDGAAYFYGPIFIHPEETEHEPTKMFYKKEVFLSNLEETCPMTCILGKCAVLSFKDFLSCRPTEIPENDILLCESRYNESDKQMKKFKGLKRFSLSAKVVDDEIYYFRKPIVPQKEPSPLLEKKIQLLEAKFAELEGGDDDIEEMGEEDSEVIEPPSLPQLQTPLASELDLMPYTPPQSTPKSAKGSAKKEGSKRKINMSGYILFSSEMRAVIKAQHPDYSFGELSRLVGTEWRNLETAKKAEYEERAAKVAEQQERERAAQQQQPSASPRAGTPVGALMGVVPPPTPMGMLNQQLTPVAGMMGGYPPGLPPLQGPVDGLVSMGSMQPLHPGGPPPHHLPPGVPGLPGIPPPGVMNQGVAPMVGTPAPGGSPYGQQVGVLGPPGQQAPPPYPGPHPAGPPVIQQPTTPMFVAPPPKTQRLLHSEAYLKYIEGLSAESNSISKWDQTLAARRRDVHLSKEQESRLPSHWLKSKGAHTTMADALWRLRDLMLRDTLNIRQAYNLENV\n",
    "\n",
    "\n",
    "## Implémentation\n",
    "\n",
    "### Profil\n",
    "\n"
   ]
  }
 ],
 "metadata": {
  "kernelspec": {
   "display_name": "Python 3",
   "language": "python",
   "name": "python3"
  },
  "language_info": {
   "codemirror_mode": {
    "name": "ipython",
    "version": 3
   },
   "file_extension": ".py",
   "mimetype": "text/x-python",
   "name": "python",
   "nbconvert_exporter": "python",
   "pygments_lexer": "ipython3",
   "version": "3.7.0"
  }
 },
 "nbformat": 4,
 "nbformat_minor": 2
}
