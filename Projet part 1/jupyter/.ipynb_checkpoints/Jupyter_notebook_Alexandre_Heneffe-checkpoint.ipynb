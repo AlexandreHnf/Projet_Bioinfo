{
 "cells": [
  {
   "cell_type": "markdown",
   "metadata": {},
   "source": [
    "# INFO-F-208 - Projet 1 -- Alexandre Heneffe -- 12/10/2018\n",
    "Ce document \"jupyter notebook\" nous introduit et nous décrit les différents algorithmes implémentés dans le cadre du Mini Projet 1 du cours \"Introduction à la bioinformatique\"\n",
    "\n",
    "## Introduction\n",
    "Pour ce premier Mini Projet nous traitons la problématique liée à l'alignement de protéines constituées de séquence d'acides aminés représentées par des lettres. \n",
    "Les connaissances nécessaires à la compréhension de ce projet sont les bases de la biologie (Notion de protéine, acides aminés). \n",
    "\n",
    "Nous procéderons à l'alignement de séquences de protéines mais également de BRD (\"Bromo Domain\"). \n",
    "Les bromodomaines sont des modules interactifs reconnaissant les sites d'acétylation (réactions chimiques) dans les protéines. Les BRD sont notamment intéressantes pour développer de nouvelles thérapies pour le cancer humain ou pour la sclérose en plaques par exemple.\n",
    "\n",
    "Les acides aminés ont évolué au fil du temps, ce qui a induit des modifications (insertions, suppressions, substitutions). De ce fait, nous cherchons à les aligner de sorte à trouver leurs similitudes maximales dissimulées et déterminer si celles-ci sont homologues (2 gènes ou 2 protéines qui partagent un ancêtre commun).\n",
    "\n",
    "Notre objectif est d’implémenter les algorithmes de Needleman-Wunsch et de Smith-Waterman qui trouveront respectivement les alignements globaux et les alignements locaux et permettront d'analyser les similitudes. Ces notions seront détaillées plus tard.\n",
    "\n",
    "\n",
    "## Matériel \n",
    "\n",
    "Nous allons maintenant aborder l'implémentation des ADT \"Abstract Data Type\" permettant de créer des outils utiles à l'implémentation des algorithmes.\n"
   ]
  },
  {
   "cell_type": "code",
   "execution_count": 1,
   "metadata": {},
   "outputs": [],
   "source": [
    "import copy as c\n",
    "import pandas\n",
    "\n",
    "pandas.set_option('display.max_columns', 500)"
   ]
  },
  {
   "cell_type": "markdown",
   "metadata": {},
   "source": [
    "### ADT Séquence\n",
    "\n",
    "Avec cette classe, nous créons des objets représentant des Séquences. Nous pouvons l'afficher au format FASTA pour visualiser son nom et ses acides aminées par exemple."
   ]
  },
  {
   "cell_type": "code",
   "execution_count": 2,
   "metadata": {},
   "outputs": [
    {
     "name": "stdout",
     "output_type": "stream",
     "text": [
      "Exemple de séquence: \n",
      "\n",
      "sp|O60885|75-147\n",
      "WKHQFAWPFQQPVDAVKLNLPDYYKIIKTPMDMGTIKKRLENNYYWNAQECIQDFNTMFTNCYIYNKPGDDIV\n",
      "\n"
     ]
    }
   ],
   "source": [
    "class Sequence:\n",
    "    \"\"\" \n",
    "    Classe qui représente un objet Séquence d'acides aminées \n",
    "    \"\"\"\n",
    "\n",
    "    def __init__(self, title = None, seq = None):\n",
    "        \"\"\" Crée un objet Séquence \"\"\"\n",
    "\n",
    "        if title != None and seq != None:\n",
    "            self.__seq = seq # Séquence : string\n",
    "            self.__title = title #Titre de la séquence\n",
    "\n",
    "    def get_acids(self):\n",
    "        \"\"\" Renvoie les lettres de la séquence \"\"\"\n",
    "        return self.__seq \n",
    "\n",
    "    def length(self):\n",
    "        \"\"\" Renvoie la taille de la séquence \"\"\"\n",
    "        return len(self.__seq)\n",
    "\n",
    "    def set_title(self, title):\n",
    "        \"\"\" Donne un nom a la séquence \"\"\"\n",
    "        self.__title = title \n",
    "    \n",
    "    def set_seq(self, seq):\n",
    "        \"\"\" met à jour la séquence \"\"\"\n",
    "        self.__seq = seq \n",
    "\n",
    "    def display(self):\n",
    "        \"\"\" Affiche la séquence au format FASTA \"\"\"\n",
    "        print(self.__title)\n",
    "        print(self.__seq, end=\"\\n\\n\")\n",
    "        \n",
    "        \n",
    "print(\"Exemple de séquence: \", end= 2*\"\\n\")\n",
    "ExempleSeq = Sequence(\"sp|O60885|75-147\", \"WKHQFAWPFQQPVDAVKLNLPDYYKIIKTPMDMGTIKKRLENNYYWNAQECIQDFNTMFT\\\n",
    "NCYIYNKPGDDIV\")\n",
    "ExempleSeq.display()\n",
    "\n"
   ]
  },
  {
   "cell_type": "markdown",
   "metadata": {},
   "source": [
    "\n",
    "### ADT Parser de séquence(s)\n",
    "\n",
    "Nous utilisons le parser de séquence(s) afin de récupérer les séquences d'acides aminées ainsi que leurs noms depuis un fichier au format FASTA (succession de séquences précédées par leurs noms). Nous créons ensuite une liste d'objets Séquence à partir des données fournies que nous pourrons utiliser dans les algorithmes décrits plus tard."
   ]
  },
  {
   "cell_type": "code",
   "execution_count": 3,
   "metadata": {},
   "outputs": [],
   "source": [
    "class ParserSequence:\n",
    "    \"\"\" \n",
    "    Classe qui représente un Parser qui va lire un fichier avec des séquences\n",
    "    \"\"\"\n",
    "\n",
    "    def __init__(self, file_name):\n",
    "        \"\"\" Crée un objet Parser \"\"\"\n",
    "\n",
    "        self.lines = open(file_name, \"r\").readlines()  #Lignes du fichier\n",
    "        self.nb_lines = len(self.lines)\n",
    "        self.sequences = [] #Liste d'objets Séquence\n",
    "\n",
    "    def create_seq(self, seq, title):\n",
    "        \"\"\" Ajoute une séquence a la liste de séquences \"\"\"\n",
    "\n",
    "        new_S = Sequence()   # Crée un nouvel objet Séquence\n",
    "        new_S.set_seq(seq)   # lui donne la séquence correspondante\n",
    "        new_S.set_title(title) # titre de la séquence\n",
    "\n",
    "        self.sequences.append(new_S) #ajout d'un nouvel objet séquence\n",
    "\n",
    "    def get_seq(self, i):\n",
    "        \"\"\" Renvoie une séquence de la liste \"\"\"\n",
    "        return self.sequences[i]\n",
    "        \n",
    "    def parse(self):        \n",
    "        \"\"\" Récupère les séquences du fichier \"\"\"\n",
    "\n",
    "        tmp = \"\"\n",
    "        title = \"\"\n",
    "        for line in self.lines: # lignes du fichier\n",
    "            if line[0] == \">\":\n",
    "                # print(tmp + \"\\n\")\n",
    "                if tmp != \"\":    \n",
    "                    self.create_seq(tmp, title)    # on crée un objet séquence          \n",
    "                    tmp = \"\"\n",
    "\n",
    "                title = line\n",
    "            else:\n",
    "                tmp += line.strip(\"\\n\")\n",
    "\n",
    "        self.create_seq(tmp, title)"
   ]
  },
  {
   "cell_type": "markdown",
   "metadata": {},
   "source": [
    "### ADT Matrice\n",
    "\n",
    "Afin d'aligner les séquences d'acides aminées, nous utilisons des objets représentant des matrices. Les différents types de matrice qui dérivent de cet objet Matrice seront décrits après (matrice de substitution, de scoring, V, W)."
   ]
  },
  {
   "cell_type": "code",
   "execution_count": 4,
   "metadata": {},
   "outputs": [],
   "source": [
    "class Matrix:\n",
    "    \"\"\" \n",
    "    Classe qui représente un objet Matrice \n",
    "    \"\"\"\n",
    "\n",
    "    def __init__(self):\n",
    "        \"\"\" Crée un objet Matrice \"\"\"\n",
    "\n",
    "        self.mat = []\n",
    "        self.n = 0 # colonnes (seq1)\n",
    "        self.m = 0 # lignes (seq2)\n",
    "        self.letters_seq1 = {} # dictionnaire clé = lettre, valeur = indice dans matrice\n",
    "        self.letters_seq2 = {}  #     \"\n",
    "        self.letters_orders1 = \"\" #Les lettres des colonnes mis dans l'ordre \n",
    "        self.letters_orders2 = \"\" #Les lettres des lignes mis dans l'ordre\n",
    "\n",
    "\n",
    "    def get_acid_score(self, i, j):\n",
    "        \"\"\" Renvoie le score d'une cellule représentée par 2 lettres \"\"\"\n",
    "        if i == \"-\" or j == \"-\":\n",
    "            return -1\n",
    "        else:\n",
    "            return self.mat[self.letters_seq1[i]][self.letters_seq2[j]]\n",
    "\n",
    "    def get_score(self, i, j):\n",
    "        \"\"\" Renvoie le score d'une cellule en mat[i][j] \"\"\"\n",
    "        return self.mat[i][j]\n",
    "\n",
    "    def set_score(self, i, j, score):\n",
    "        \"\"\" donne un score a une cellule \"\"\"\n",
    "        self.mat[i][j] = score\n",
    "\n",
    "    def addline(self):\n",
    "        \"\"\" ajoute une ligne dans la matrice \"\"\"\n",
    "        self.mat.append([])\n",
    "        self.m += 1\n",
    "\n",
    "    def add_cell(self, i, score):\n",
    "        \"\"\" ajoute un élément dans une ligne (score) \"\"\"\n",
    "        if isinstance(score, str):\n",
    "            score = int(score)\n",
    "\n",
    "        self.mat[i].append(score)\n",
    "\n",
    "    def set_lign(self, scores):\n",
    "        \"\"\" ajoute toute une ligne avec des scores \"\"\"\n",
    "        self.mat.append(scores)\n",
    "\n",
    "    def inc_nb_col(self):\n",
    "        \"\"\" augmente le nb de colonnes de 1 \"\"\"\n",
    "        self.n += 1\n",
    "\n",
    "    def set_nb_col(self):\n",
    "        \"\"\" détermine le nombre de colonnes \"\"\"\n",
    "        self.n = len(self.mat[0])\n",
    "\n",
    "    def inc_nb_lign(self):\n",
    "        \"\"\" augmente le nb de lignes de 1 \"\"\"\n",
    "        self.m += 1    \n"
   ]
  },
  {
   "cell_type": "markdown",
   "metadata": {},
   "source": [
    "La matrice est déterminée par 2 séquences de lettres. Nous définissons un structure de la forme:\n",
    "\n",
    "$$ \\{ \"A\": 0, \"B\": 1, \"C\": 2, ... \\}$$ \n",
    "\n",
    "Cela nous permettra de récupérer le score d'une paire d'acides aminés à partir de leurs lettres. Dans notre cas, ce sera pour récupérer des scores figurant dans la matrice de substitution."
   ]
  },
  {
   "cell_type": "code",
   "execution_count": 5,
   "metadata": {},
   "outputs": [],
   "source": [
    "def get_letters(self, i, j):\n",
    "    \"\"\" Renvoie les lettres correspondantes a la cellule i,j \"\"\"\n",
    "    return self.letters_orders2[i] + self.letters_orders1[j]\n",
    "\n",
    "def set_letters_seq(self, seq1, seq2):\n",
    "    \"\"\" remplit les dictionnaires par\n",
    "        clé : acide aminée, valeur : indice dans la matrice\n",
    "    \"\"\"\n",
    "\n",
    "    seq1 = seq1.replace(\" \", \"\")\n",
    "    seq2 = seq2.replace(\" \", \"\")\n",
    "    self.letters_orders1 = seq1\n",
    "    self.letters_orders2 = seq2\n",
    "\n",
    "    self.letters_seq1 = dict(zip(seq1, (i for i in range(len(seq1)))))\n",
    "    self.letters_seq2 = dict(zip(seq2, (i for i in range(len(seq2)))))  \n",
    "    \n",
    "Matrix.get_letters = get_letters\n",
    "Matrix.set_letters_seq = set_letters_seq"
   ]
  },
  {
   "cell_type": "markdown",
   "metadata": {},
   "source": [
    "Pour visualiser les matrices tout au long des algorithmes, nous les affichons de manière jolie à l'aide de la méthode ci-dessous."
   ]
  },
  {
   "cell_type": "code",
   "execution_count": 6,
   "metadata": {},
   "outputs": [],
   "source": [
    "def display(self):\n",
    "    \"\"\" Affiche la matrice \"\"\"\n",
    "\n",
    "    for l in self.letters_orders1:\n",
    "        if l == \"-\":\n",
    "            print(\"\\t-\", end=\"\\t\")\n",
    "        else:\n",
    "            print(l, end= \"\\t\")\n",
    "    print(\"\\n\")\n",
    "\n",
    "    for i in range(self.m): # lignes\n",
    "        print(self.letters_orders2[i], end =\"\\t\")\n",
    "        if self.letters_orders2[i] == \"-\":\n",
    "            #print(\"  \", end= \"\")\n",
    "            pass\n",
    "        for j in range(self.n): # colonne\n",
    "            print(self.mat[i][j], end= \"\\t\")\n",
    "        print(\"\\n\")\n",
    "    print(\"\\n\") \n",
    "\n",
    "Matrix.display = display\n",
    "\n",
    "def panda(self):\n",
    "    \"\"\" Autre moyen d'afficher la matrice de manière plus compacte \"\"\"\n",
    "    \n",
    "    print(pandas.DataFrame(self.mat, list(self.letters_orders2), \\\n",
    "    pandas.Index(list(self.letters_orders1), name=\"*\")), end=\"\\n\\n\")\n",
    "\n",
    "Matrix.panda = panda\n",
    "        "
   ]
  },
  {
   "cell_type": "markdown",
   "metadata": {},
   "source": [
    "### ADT Matrice de substitution\n",
    "\n",
    "La matrice de substitution nous donne le score de similarité de chaque paire d'acides aminés. \n",
    "\n",
    "Lorsque 2 acides aminés se substituent, l'évolution accepte ou non le remplacement selon la préservation de la stabilité de la protéine et la modification de leurs foncionnalités biochimiques. Le score de similarité nous donne une idée de ces remplacements en nous donnant la probabilité que les 2 acides aminés soient homologues et la probabilité qu'ils soient liées de façon stochastique. Un score positif montre les mutations acceptées et un score négatif montre les mutations refusées.\n",
    "\n",
    "Nous avons à notre disposition les matrices de substitution \"BLOSUM62\", \"BLOSUM80\", \"PAM120 et \"PAM60\" dont les scores ont été calculés sur base de l'homologie de différentes espèces. Les différents types de matrices \"PAM\" montrent une différence dans le nombre de substitutions acceptées, donc la divergence entre les séquences tandis que les différents types de \"BLOSUM\" sont dues a une variation du pourcentage d'identité entre les séquences.\n"
   ]
  },
  {
   "cell_type": "code",
   "execution_count": 7,
   "metadata": {},
   "outputs": [],
   "source": [
    "class MatSubstitution(Matrix):\n",
    "    \"\"\" \n",
    "    Classe qui représente un Parser qui va lire un fichier avec une matrice\n",
    "    de substitution\n",
    "    Cette classe hérite de Matrix\n",
    "    \"\"\"\n",
    "\n",
    "    def __init__(self, file_name):\n",
    "        \"\"\" Crée un objet Parser \"\"\"\n",
    "\n",
    "        Matrix.__init__(self) \n",
    "        self.lines = open(file_name, \"r\").readlines()  #Lignes du fichier\n",
    "        self.nb_lines = len(self.lines)\n",
    "\n",
    "    def get_mat_sub(self):\n",
    "        \"\"\" Renvoie la matrice de subsitution parsée \"\"\"\n",
    "\n",
    "        return self.mat         \n",
    "    "
   ]
  },
  {
   "cell_type": "markdown",
   "metadata": {},
   "source": [
    "### ADT Parser de matrice\n",
    "\n",
    "Nous utilisons le parser de matrice pour récupérer une matrice de substitution contenue dans un fichier et la placer dans un objet \"Matrice\" sur lequel nous pouvons appliquer différentes fonctions (tel que l'afficher, obtenir l'information d'une cellule, ajouter des éléments, etc..) . Nous nous servirons des scores de cette matrice de substitution lors de la détermination des alignements de séquences d'acides aminées. "
   ]
  },
  {
   "cell_type": "code",
   "execution_count": 8,
   "metadata": {
    "scrolled": false
   },
   "outputs": [
    {
     "name": "stdout",
     "output_type": "stream",
     "text": [
      "Matrice de substitution BLOSUM62: \n",
      "\n",
      "\n",
      "*  A  R  N  D  C  Q  E  G  H  I  L  K  M  F  P  S  T   W  Y  V  B  Z  X  *\n",
      "A  4 -1 -2 -2  0 -1 -1  0 -2 -1 -1 -1 -1 -2 -1  1  0  -3 -2  0 -2 -1  0 -4\n",
      "R -1  5  0 -2 -3  1  0 -2  0 -3 -2  2 -1 -3 -2 -1 -1  -3 -2 -3 -1  0 -1 -4\n",
      "N -2  0  6  1 -3  0  0  0  1 -3 -3  0 -2 -3 -2  1  0  -4 -2 -3  3  0 -1 -4\n",
      "D -2 -2  1  6 -3  0  2 -1 -1 -3 -4 -1 -3 -3 -1  0 -1  -4 -3 -3  4  1 -1 -4\n",
      "C  0 -3 -3 -3  9 -3 -4 -3 -3 -1 -1 -3 -1 -2 -3 -1 -1  -2 -2 -1 -3 -3 -2 -4\n",
      "Q -1  1  0  0 -3  5  2 -2  0 -3 -2  1  0 -3 -1  0 -1  -2 -1 -2  0  3 -1 -4\n",
      "E -1  0  0  2 -4  2  5 -2  0 -3 -3  1 -2 -3 -1  0 -1  -3 -2 -2  1  4 -1 -4\n",
      "G  0 -2  0 -1 -3 -2 -2  6 -2 -4 -4 -2 -3 -3 -2  0 -2  -2 -3 -3 -1 -2 -1 -4\n",
      "H -2  0  1 -1 -3  0  0 -2  8 -3 -3 -1 -2 -1 -2 -1 -2  -2  2 -3  0  0 -1 -4\n",
      "I -1 -3 -3 -3 -1 -3 -3 -4 -3  4  2 -3  1  0 -3 -2 -1  -3 -1  3 -3 -3 -1 -4\n",
      "L -1 -2 -3 -4 -1 -2 -3 -4 -3  2  4 -2  2  0 -3 -2 -1  -2 -1  1 -4 -3 -1 -4\n",
      "K -1  2  0 -1 -3  1  1 -2 -1 -3 -2  5 -1 -3 -1  0 -1  -3 -2 -2  0  1 -1 -4\n",
      "M -1 -1 -2 -3 -1  0 -2 -3 -2  1  2 -1  5  0 -2 -1 -1  -1 -1  1 -3 -1 -1 -4\n",
      "F -2 -3 -3 -3 -2 -3 -3 -3 -1  0  0 -3  0  6 -4 -2 -2   1  3 -1 -3 -3 -1 -4\n",
      "P -1 -2 -2 -1 -3 -1 -1 -2 -2 -3 -3 -1 -2 -4  7 -1 -1  -4 -3 -2 -2 -1 -2 -4\n",
      "S  1 -1  1  0 -1  0  0  0 -1 -2 -2  0 -1 -2 -1  4  1  -3 -2 -2  0  0  0 -4\n",
      "T  0 -1  0 -1 -1 -1 -1 -2 -2 -1 -1 -1 -1 -2 -1  1  5  -2 -2  0 -1 -1  0 -4\n",
      "W -3 -3 -4 -4 -2 -2 -3 -2 -2 -3 -2 -3 -1  1 -4 -3 -2  11  2 -3 -4 -3 -2 -4\n",
      "Y -2 -2 -2 -3 -2 -1 -2 -3  2 -1 -1 -2 -1  3 -3 -2 -2   2  7 -1 -3 -2 -1 -4\n",
      "V  0 -3 -3 -3 -1 -2 -2 -3 -3  3  1 -2  1 -1 -2 -2  0  -3 -1  4 -3 -2 -1 -4\n",
      "B -2 -1  3  4 -3  0  1 -1  0 -3 -4  0 -3 -3 -2  0 -1  -4 -3 -3  4  1 -1 -4\n",
      "Z -1  0  0  1 -3  3  4 -2  0 -3 -3  1 -1 -3 -1  0 -1  -3 -2 -2  1  4 -1 -4\n",
      "X  0 -1 -1 -1 -2 -1 -1 -1 -1 -1 -1 -1 -1 -1 -2  0  0  -2 -1 -1 -1 -1 -1 -4\n",
      "* -4 -4 -4 -4 -4 -4 -4 -4 -4 -4 -4 -4 -4 -4 -4 -4 -4  -4 -4 -4 -4 -4 -4  1\n",
      "\n"
     ]
    }
   ],
   "source": [
    "def parse(self):        \n",
    "    \"\"\" Récupère la matrice du fichier \"\"\"\n",
    "\n",
    "    i = 0\n",
    "    for line in self.lines: # lignes du fichier\n",
    "\n",
    "        line = line.strip(\"\\n\")\n",
    "        if len(line) > 0:\n",
    "            if line[0] == \" \":\n",
    "                self.set_letters_seq(line, line)   # lettres de seq 1 et 2\n",
    "            else:\n",
    "                if line[0] != \"#\":\n",
    "                    self.addline()\n",
    "                    all_line = line.split(\" \")\n",
    "                    for l in all_line:\n",
    "                        if l != \"\" and not l.isalpha() and l != \"*\":\n",
    "                            self.add_cell(i, l)\n",
    "                    i += 1\n",
    "\n",
    "    self.set_nb_col() \n",
    "        \n",
    "MatSubstitution.parse = parse\n",
    "\n",
    "print(\"Matrice de substitution BLOSUM62: \\n\\n\")\n",
    "subEx = MatSubstitution(\"blosum62.txt\")\n",
    "subEx.parse()\n",
    "#subEx.display()\n",
    "subEx.panda()\n"
   ]
  },
  {
   "cell_type": "markdown",
   "metadata": {},
   "source": [
    "### ADT Matrice de Scoring \n",
    "\n",
    "Nous avons une classe qui permet de créer une matrice de scoring et de l'initialiser selon la méthode. Si nous sommes dans un alignement global, nous initialisons la matrice avec les pénalités d'ouverture de gap \"I\" et de continuité de gap \"E\". La notion de \"gap\" sera détaillée plus tard."
   ]
  },
  {
   "cell_type": "code",
   "execution_count": 9,
   "metadata": {},
   "outputs": [
    {
     "name": "stdout",
     "output_type": "stream",
     "text": [
      "Exemple de matrice de scoring initialisée pour l'alignement global: \n",
      "\n",
      "\t-\tA\tB\tC\tD\t\n",
      "\n",
      "-\t0\t-4\t-6\t-8\t-10\t\n",
      "\n",
      "E\t-4\t\t\t\t\t\n",
      "\n",
      "F\t-6\t\t\t\t\t\n",
      "\n",
      "G\t-8\t\t\t\t\t\n",
      "\n",
      "\n",
      "\n"
     ]
    }
   ],
   "source": [
    "class MatScoring(Matrix):\n",
    "    \"\"\" Classe qui représente une matrice contenant les scores avec une pénalité\n",
    "        de gap affine\n",
    "        Cette classe hérite de Matrix\n",
    "    \"\"\" \n",
    "\n",
    "    def __init__(self, I, E, n, m):\n",
    "        Matrix.__init__(self)\n",
    "\n",
    "        self.n = n \n",
    "        self.m = m \n",
    "        self.I = I\n",
    "        self.E = E \n",
    "\n",
    "    def init_S_global(self):\n",
    "        \"\"\" Initialise 1ere ligne et 1ere colonne de S pour la méthode globale \"\"\"\n",
    "\n",
    "        first_col = [0]\n",
    "        for i in range(self.m):\n",
    "\n",
    "            newline = []\n",
    "            if i == 0:\n",
    "                newline += [0, -self.I]    # 1ere ligne [0, -I, -I-E, ...]\n",
    "                for j in range(2, self.n):\n",
    "                    newline.append(newline[j-1] - self.E)\n",
    "                \n",
    "\n",
    "            elif i == 1:\n",
    "                newline += [-self.I] + (self.n-1)*[\"\"]\n",
    "                first_col += [-self.I]\n",
    "            else:\n",
    "                first_col.append(first_col[i-1] - self.E)\n",
    "                newline += [first_col[i]] + (self.n-1)*[\"\"]\n",
    "                \n",
    "            self.set_lign(newline)\n",
    "            \n",
    "# =================================== EXEMPLE ========================================\n",
    "ExempleS = MatScoring(4, 2, 5, 4)\n",
    "ExempleS.init_S_global()\n",
    "ExempleS.set_letters_seq(\"-ABCD\", \"-EFGH\")\n",
    "print(\"Exemple de matrice de scoring initialisée pour l'alignement global: \", end=2*\"\\n\")\n",
    "ExempleS.display()"
   ]
  },
  {
   "cell_type": "markdown",
   "metadata": {},
   "source": [
    "### ADT Matrices V et W\n",
    "Nous pouvons créer des matrices V et W permettant de sauvegarder les informations concernant les gap lors du calcul de la matrice de scoring. Nous les initialisons avec des valeurs infinies - Inf sur la première ligne de V et des 0 sur la première colonne de V. Nous procédons de la même manière pour W mais en inversant les valeurs -Inf et 0.\n",
    "\n",
    "$$\n",
    "V = \\begin{bmatrix} -Inf & -Inf & ... \\\\ 0 \\\\ 0\\\\ ... \\end{bmatrix}  W = \\begin{bmatrix} 0 & 0 & ... \\\\ -Inf \\\\ -Inf\\\\ ... \\end{bmatrix} \n",
    "$$"
   ]
  },
  {
   "cell_type": "code",
   "execution_count": 10,
   "metadata": {},
   "outputs": [],
   "source": [
    "class MatV(Matrix):\n",
    "    \"\"\" Classe qui représente une matrice permettant de sauvegarder des valeurs \n",
    "        liées aux lignes lors du calcul de la matrice de scoring \n",
    "        Cette classe hérite de Matrix\n",
    "    \"\"\"\n",
    "\n",
    "    def __init__(self, n, m):\n",
    "        Matrix.__init__(self)\n",
    "\n",
    "        self.n = n \n",
    "        self.m = m \n",
    "\n",
    "    def init_V(self):\n",
    "        \"\"\" Initialise 1ere ligne et 1ere colonne de V \"\"\"\n",
    "\n",
    "        for i in range(self.m):\n",
    "            if i == 0:\n",
    "                self.set_lign([-float(\"inf\")]*self.n) # -inf -inf -inf ...\n",
    "            else:\n",
    "                self.set_lign([0] + (self.n-1)*[\"\"]) # 0 ..."
   ]
  },
  {
   "cell_type": "code",
   "execution_count": 11,
   "metadata": {},
   "outputs": [],
   "source": [
    "class MatW(Matrix):\n",
    "    \"\"\" Classe qui représente une matrice permettant de sauvegarder des valeurs \n",
    "        liées aux colonnes lors du calcul de la matrice de scoring \n",
    "        Cette classe hérite de Matrix\n",
    "    \"\"\"\n",
    "\n",
    "    def __init__(self, n, m):\n",
    "        Matrix.__init__(self)\n",
    "\n",
    "        self.n = n\n",
    "        self.m = m \n",
    "\n",
    "    def init_W(self):\n",
    "        \"\"\" Initialise 1ere ligne et 1ere colonne de W \"\"\"\n",
    "\n",
    "        for i in range(self.m):\n",
    "            if i == 0:\n",
    "                self.set_lign([-float(\"inf\")] + [0]*(self.n-1)) # -inf 0 0 0 0 ...\n",
    "            else:\n",
    "                self.set_lign([-float(\"inf\")] + (self.n-1)*[\"\"]) # 0 ... "
   ]
  },
  {
   "cell_type": "markdown",
   "metadata": {},
   "source": [
    "## Méthodes\n",
    "\n",
    "Maintenant, nous allons parler de la méthodologie utilisée pour produire des résultats corrects.\n",
    "\n",
    "### Objectif\n",
    "\n",
    "Ce que nous cherchons à obtenir à l'aide de la programmation dynamique et les algorithmes, ce sont des solutions de cette forme :"
   ]
  },
  {
   "cell_type": "code",
   "execution_count": 12,
   "metadata": {},
   "outputs": [
    {
     "name": "stdout",
     "output_type": "stream",
     "text": [
      "MGGETFA\n",
      " :: :  \n",
      "-GGVTTF\n"
     ]
    }
   ],
   "source": [
    "print(\"MGGETFA\\n :: :  \\n-GGVTTF\")"
   ]
  },
  {
   "cell_type": "markdown",
   "metadata": {},
   "source": [
    "Ceci est un exemple d'alignement de 2 séquences d'acides aminées. \n",
    "\n",
    "Nous introduisons la notion de \"gap\". Celui-ci est un espace dans la séquence qui est représenté par un \"-\". Il sert à procéder à une insertion ou à une suppression. Dans l'exemple ci-dessus, l'élement \"M\" de la première séquence est supprimé dans la deuxieme séquence. Cela permet de ne garder que les similitudes entre les 2 séquences.\n",
    "\n",
    "De plus, étant donné que nous utilisons un système de scores pour procéder à ces alignements de séquences, et que les gaps diminuent les pourcentages de similarité entre 2 séquences, nous leur donnons un score de pénalité. \n",
    "\n",
    "Dans le cadre de ce projet, nous utiliserons une pénalité de gap affine et non linéaire:\n",
    "\n",
    "- Une pénalité linéaire est une valeur négative identique pour tous les gaps\n",
    "- Avec une pénalité affine, une ouverture de gap est plus pénalisante qu'une continuité de gap:\n",
    "\n",
    "$$ ABC----DF $$\n",
    "\n",
    "Par exemple, le premier gap aura une pénalité de -4 (I) et ceux qui suivent auront une pénalité de -1 (E)."
   ]
  },
  {
   "cell_type": "markdown",
   "metadata": {},
   "source": [
    "### Programmation dynamique\n",
    "\n",
    "Le meilleur moyen de trouver les alignements optimaux est la programmation dynamique. En effet, dans une approche de \"Diviser pour régner\", un résultat à l'instant t est déterminé par un résultat à l'instant t-1. Si nous devions calculer toutes les combinaisons possibles entre les 2 séquences d'aminées, le temps de calcul serait énorme. A la place, à chaque étape, nous utilisons les résultats précédemment calculés. \n",
    "\n",
    "Notre problème possède les 2 caractéristiques représentatives d'un problème devant être résolu par de la programmation dynamique: \n",
    "\n",
    "- Le problème contient des solutions optimales pour les sous-problèmes du problème global: nous retenons les valeurs V(i,j) et W(i,j) à chaque étape et S(i,j) détermine un sous-alignement de séquences optimales seq1[j:] et seq[i:] (des sous-séquences).\n",
    "\n",
    "- La solution récursive contient un nombre limité de sous-problèmes distincts répétés beaucoup de fois: Lors du backtracking, nous construisons d'abord la solution optimale de taille minimale (en bas à droite) et puis nous construisons de manière croissante les solutions optimales des sous-problèmes en remontant vers le coin en haut à gauche.\n",
    "\n",
    "\n",
    "\n",
    "Notre cas ressemble fortement à un problème de recherche de distance d'édition \"D\" entre 2 chaînes de caractères (Nombre minimum d'opérations d'insertion, suppression, remplacement pour passer d'une chaine à une autre). \n",
    "\n",
    "En effet, 2 caractères différents dans un alignement de séquence représentent un remplacement, un espace dans la première séquence représente une insertion dans la seconde et un espace dans la seconde séquence représente une suppression dans la première séquence.\n",
    "\n",
    "\n",
    "il possède également les 2 caractéristiques d'un problème dynamique et réalise une solution récursive de la forme:\n",
    "\n",
    "$$D(i,j) = \\left\\{ \\begin{array}{ll} i & \\mbox{si } \\{i>0, j=0\\} \\\\ j & \\mbox{si } \\{i=0, j>0\\} \\\\ \n",
    "       min(D(i-1, j) + 1, D(i, j-1) + 1, D(i-1, j-1) + t(i, j)  )\n",
    "    \\end{array} \\right.$$\n",
    "    \n",
    "similaire à celle de l'alignement de séquence (détaillé plus tard)\n"
   ]
  },
  {
   "cell_type": "markdown",
   "metadata": {},
   "source": [
    "### Alignement\n",
    "\n",
    "Nous définissons un objet Alignement qui représente un alignement de séquence de manière générale. Celui-ci se décline en 2 types d'Alignements: \n",
    "- L'alignement global\n",
    "- L'alignement local \n",
    "\n",
    "Tous les 2 ont des algorithmes différents mais similaires d'un point de vue technique. L'alignement général va simplement initialiser les séquences de séquences d'acides aminés, les matrices de substitution, de scoring, les matrices de sauvegarde V et W pour les alignements globaux ou locaux. "
   ]
  },
  {
   "cell_type": "code",
   "execution_count": 13,
   "metadata": {},
   "outputs": [],
   "source": [
    "class Alignment:\n",
    "    \"\"\" Classe représentant un objet qui trouvera l'alignement de 2 séquences\n",
    "        d'acides aminées\n",
    "    \"\"\"\n",
    "\n",
    "    def __init__(self, I, E, mat_file, seq1, seq2, p):\n",
    "        \n",
    "        self.I = I \n",
    "        self.E = E\n",
    "        self.p = p\n",
    "        self.seq1 = seq1\n",
    "        self.seq2 = seq2\n",
    "        self.n = self.seq1.length()+1\n",
    "        self.m = self.seq2.length()+1\n",
    "\n",
    "        if self.p == 1 or p == 2: # Si on veut imprimer les informations\n",
    "            print(\"Séquence 1 de longueur {0}: \".format(self.n))\n",
    "            self.seq1.display() \n",
    "            print(\"Séquence 2 de longueur {0}: \".format(self.m))\n",
    "            self.seq2.display()\n",
    "            print(\"matrice de substitution utilisée: {0}\".format(mat_file))\n",
    "            print(\"Pénalité de gap affine: I = {0} | E = {1}\".format(self.I, self.E))\n",
    "\n",
    "        # =================== SUBSITUTION ==============================\n",
    "        self.t = MatSubstitution(mat_file)\n",
    "        self.t.parse()\n",
    "\n",
    "        # =================== SCORING ===============================\n",
    "\n",
    "        self.S = MatScoring(I, E, self.n, self.m) \n",
    "        # on crée un objet matrice de scoring\n",
    "\n",
    "        # ===================== V ET W ===================================\n",
    "\n",
    "        self.V = MatV(self.n, self.m)\n",
    "        self.W = MatW(self.n, self.m)\n",
    "\n",
    "        self.V.init_V() # Initialise V\n",
    "        self.V.set_letters_seq(\"-\"+self.seq1.get_acids(), \"-\"+self.seq2.get_acids())\n",
    "        self.W.init_W() # Initialise W\n",
    "        self.W.set_letters_seq(\"-\"+self.seq1.get_acids(), \"-\"+self.seq2.get_acids())\n",
    "\n",
    "        self.current_sol = [] # Pour le backtracking\n",
    "        self.all_solutions = []\n",
    "\n",
    "    def get_v(self, i, j):\n",
    "        return max( self.S.get_score(i-1, j) - self.I, \n",
    "                    self.V.get_score(i-1,j) - self.E )\n",
    "\n",
    "    def get_w(self, i, j):\n",
    "        return max( self.S.get_score(i, j-1) - self.I,\n",
    "                    self.W.get_score(i, j-1) - self.E )"
   ]
  },
  {
   "cell_type": "markdown",
   "metadata": {},
   "source": [
    "#### Alignement global"
   ]
  },
  {
   "cell_type": "markdown",
   "metadata": {},
   "source": [
    "L'alignement global va utiliser l'algorithme de Needleman et Wunsch (implémentée ci-dessous dans la classe Alignement Global). Celui-ci va chercher l'alignement qui donne la plus grande similarité entre 2 séquences d'acides aminées.\n",
    "\n",
    "Tout d'abord, Nous devons initialiser la matrice de scoring avec une pénalité de gap affine. Comme décrit plus haut, la matrice initiale aura la forme:\n",
    "\n",
    "\n",
    "$$\n",
    "S = \\begin{bmatrix} 0 & -I & -I-E & -I-E-E & .. \\\\ -I \\\\ -I-E \\\\ -I-E-E \\\\ ... \\end{bmatrix} \n",
    "$$\n",
    "\n",
    "\n",
    "\n",
    "Ensuite, nous calculons le reste des cellules de cette matrice:\n",
    "\n",
    "Etant donné que des gaps sont introduits dans les 2 séquences, il faut sauvegarder l'état de ces gaps dans des matrices V et W préalablement initialisée comme décrit plus haut.\n",
    "\n",
    "- Première séquence (les colonnes:\n",
    "    - Si la valeur précédente N'était PAS un gap, on utilise S(i - 1, j) - la pénalité de gap d'ouverture I\n",
    "    - Si la valeur précédente ETAIT un gap, on utilise V(i - 1, j) - la pénalité de gap de continuité E\n",
    "    \n",
    "    $$V(i,j) = max\\left\\{ \\begin{array}{ll} S(i - 1, j) - I \\\\ V(i - 1, j) - E\n",
    "    \\end{array} \\right.$$\n",
    "    \n",
    "- Deuxième séquence (les lignes):\n",
    "    - Si la valeur précédente N'était PAS un gap, on utilise S(i, j - 1) - la pénalité de gap d'ouverture I\n",
    "    - Si la valeur précédente ETAIT un gap, on utilise W(i, j - 1) - la pénalité de gap de continuité E\n",
    "    \n",
    "    $$W(i,j) = max\\left\\{ \\begin{array}{ll} S(i, j - 1) - I \\\\ W(i, j - 1) - E\n",
    "    \\end{array} \\right.$$\n",
    "\n",
    "La cellule S(i,j) de la matrice de scoring devient alors: \n",
    "\n",
    "$$S(i,j) = max\\left\\{ \\begin{array}{ll} S(i - 1, j - 1) + MatSubstitution(i, j) \\\\\n",
    "        V(i, j) \\\\ W(i, j) \\end{array} \\right.$$\n",
    "    "
   ]
  },
  {
   "cell_type": "code",
   "execution_count": 14,
   "metadata": {},
   "outputs": [],
   "source": [
    "class GlobalAlignment(Alignment):\n",
    "    \"\"\"\n",
    "    Classe qui va trouver un aligement de séquences d'acides aminées avec\n",
    "    une pénalité affine et une méthode globale\n",
    "    \"\"\"\n",
    "\n",
    "    def __init__(self, k, I, E, mat_file, seq1, seq2, p):\n",
    "        Alignment.__init__(self, I, E, mat_file, seq1, seq2, p)\n",
    "        self.k = k\n",
    "\n",
    "        self.S.init_S_global()  # On initialise la matrice de scoring\n",
    "        self.S.set_letters_seq(\"-\"+self.seq1.get_acids(), \"-\"+self.seq2.get_acids())\n",
    "\n",
    "    def update_s_global(self, i, j, v_ij, w_ij):\n",
    "        letters_ij = self.S.get_letters(i,j) # 'AB' par exemple\n",
    "        t_ij = self.t.get_acid_score(letters_ij[0], letters_ij[1])\n",
    "\n",
    "        s_ij = max( self.S.get_score(i-1,j-1) + t_ij, v_ij, w_ij )\n",
    "        self.S.set_score(i,j, s_ij)\n",
    "\n",
    "    def Needleman_Wunsch(self):\n",
    "        \"\"\" \n",
    "        Algorithme qui calcule la matrice de scoring pour l’alignement global \n",
    "        en utilisant la pénalité affine puis fait un backtracking pour récupérer\n",
    "        tous les alignements optimaux possibles\n",
    "        \"\"\"\n",
    "\n",
    "        # ==================== CREATION SCORING ===========================\n",
    "\n",
    "        for i in range(1, self.m):\n",
    "            for j in range(1, self.n):\n",
    "                v_ij = self.get_v(i, j)   # V(i,j)\n",
    "                self.V.set_score(i,j, v_ij)\n",
    "                w_ij = self.get_w(i, j)\n",
    "                self.W.set_score(i,j, w_ij) # W(i,j)\n",
    "\n",
    "                self.update_s_global(i, j, v_ij, w_ij)\n",
    "\n",
    "        if self.p == 2: # Si on veut afficher les matrices\n",
    "            self.V.display()\n",
    "            self.W.display()\n",
    "            self.S.panda()\n",
    "\n",
    "        self.current_sol.append((self.m-1, self.n-1)) \n",
    "        self.backtracking_global(self.m-1, self.n-1) #appel sur element en derniere\n",
    "                                                     #ligne, derniere colonne\n",
    "\n",
    "        \n",
    "        R = Result(self.S, self.t, self.all_solutions, self.p)\n",
    "        res = R.compute_result()\n",
    "        return res"
   ]
  },
  {
   "cell_type": "markdown",
   "metadata": {},
   "source": [
    "#### backtracking\n",
    "\n",
    "Une fois la matrice de scoring créée, il faut utiliser un backtracking.\n",
    "Le backtracking est une méthode algorithmique permettant de trouver toutes les solutions optimales d'un problème de manière récursive. Il construit une solution petit à petit selon certaines conditions. Une fois qu'il a trouvé une solution admissible, il détruit la solution et en crée une nouvelle. C'est une approche \"BOTTOM-UP\".\n",
    "\n",
    "Dans notre cas, le backtracking part du dernier élément de la matrice de scoring (en bas à droite) et va remonter vers l'élément en (0,0). Une solution est donc un chemin partant du dernier élément jusqu'au premier élément.\n",
    "\n",
    "        \n",
    "A chaque étape nous avons 3 possibilités: $$  \\begin{bmatrix} S(i-1,j-1)+t(i,j) & V(i,j) \\\\ W(i,j) & S(i,j) \\end{bmatrix} $$\n",
    "\n",
    "Etant donné que S(i,j) est calculée à partir de V, W, et de l'élément en diagonale + le score de la matrice de substitution, il revient sur la cellule ayant le score maximal de ces 3 éléments.\n",
    "\n",
    "La méthode ci-dessous réalise ce backtracking:\n"
   ]
  },
  {
   "cell_type": "code",
   "execution_count": 15,
   "metadata": {},
   "outputs": [],
   "source": [
    "def backtracking_global(self, i, j):\n",
    "    \"\"\" Remonte la matrice de scoring a partir du dernier élément jusqu'à [0][0]\n",
    "        pour avoir les k alignements\n",
    "    \"\"\"\n",
    "\n",
    "    if i == 0 or j == 0:\n",
    "        if i == 0 and j == 0:\n",
    "            if len(self.current_sol) > 0:\n",
    "                self.current_sol.pop() # Si on est en (0,0)\n",
    "        if len(self.all_solutions) == self.k: # Si on a deja trouvé k alignements\n",
    "            return \n",
    "        if self.current_sol not in self.all_solutions:\n",
    "            #print(\"1 solution trouvé: \", self.current_sol)\n",
    "            self.all_solutions.append(c.deepcopy(self.current_sol))           \n",
    "\n",
    "    else:\n",
    "        for pos in range(3):\n",
    "\n",
    "            new_i = i \n",
    "            new_j = j \n",
    "            valid = False \n",
    "            if pos == 0 and self.is_previous(\"v\", i, j):  # haut\n",
    "                new_i -= 1 # i-1\n",
    "                valid = True \n",
    "            elif pos == 1 and self.is_previous(\"w\", i, j): # gauche\n",
    "                new_j -= 1 # j-1  \n",
    "                valid = True \n",
    "            elif pos == 2 and self.is_previous(\"s\", i, j): # diagonale\n",
    "                new_i -= 1 # i - 1\n",
    "                new_j -= 1  # j - 1\n",
    "                valid = True \n",
    "\n",
    "            if valid: \n",
    "                self.current_sol.append((new_i, new_j))\n",
    "                self.backtracking_global(new_i, new_j) # appel sur cellule suivante\n",
    "                if len(self.current_sol) != 0:\n",
    "                    self.current_sol.pop() # destruction sol partielle\n",
    "\n",
    "GlobalAlignment.backtracking_global = backtracking_global"
   ]
  },
  {
   "cell_type": "markdown",
   "metadata": {},
   "source": [
    "La méthode is_previous (ci-dessous) permet à tout moment lors du backtracking de vérifier vers quelle cellule il doit se diriger:\n",
    "- Si l'élément S(i,j) est déterminé par V(i,j), il se dirige vers la cellule du dessus\n",
    "- Si l'élément S(i,j) est déterminé par W(i,j), il se dirige vers la cellule de gauche \n",
    "Ces deux éléments introduisent alors des gap dans la solution\n",
    "- SI l'élement S(i,j) est déterminé par S(i-1, j-1) + son score de substitution, il se dirige en diagonale en haut à gauche de lui.\n",
    "\n",
    "$$  \\begin{bmatrix} S(i-1,j-1)+t(i,j) & V(i,j) \\\\ W(i,j) & S(i,j) \\end{bmatrix} $$"
   ]
  },
  {
   "cell_type": "code",
   "execution_count": 16,
   "metadata": {},
   "outputs": [],
   "source": [
    "def is_previous(self, mat, i, j):\n",
    "    \"\"\" Regarde si l'élement ij résulte de l'élément en diagonale,\n",
    "        en haut ou a gauche \n",
    "    \"\"\"\n",
    "\n",
    "    res = False\n",
    "    if mat == \"v\":\n",
    "        if self.V.get_score(i,j) == self.S.get_score(i,j):\n",
    "            res = True \n",
    "\n",
    "    elif mat == \"w\":\n",
    "        if self.W.get_score(i,j) == self.S.get_score(i,j):\n",
    "            res = True \n",
    "\n",
    "    elif mat == \"s\":\n",
    "        letters_ij = self.S.get_letters(i,j) # 'AB' par exemple\n",
    "        t_ij = self.t.get_acid_score(letters_ij[0], letters_ij[1])  # t(i,j)\n",
    "\n",
    "        if self.S.get_score(i-1, j-1) + t_ij == self.S.get_score(i,j):\n",
    "            res = True \n",
    "\n",
    "    return res \n",
    "\n",
    "Alignment.is_previous = is_previous\n"
   ]
  },
  {
   "cell_type": "markdown",
   "metadata": {},
   "source": [
    "#### Alignement local\n",
    "\n",
    "L'alignement local va utiliser l'algorithme de Smith-Waterman. Nous voulons trouver les morceaux de séquences similaires. Cet algorithme utilise également la programmation dynamique et ressemble à l'algorithme de Needleman-Wunsch. "
   ]
  },
  {
   "cell_type": "code",
   "execution_count": 17,
   "metadata": {},
   "outputs": [],
   "source": [
    "class LocalAlignment(Alignment):\n",
    "    \"\"\"\n",
    "    Classe qui qui va trouver un aligement de séquences d'acides aminées avec\n",
    "    une pénalité affine et une méthode locale\n",
    "    \"\"\"\n",
    "\n",
    "    def __init__(self, l, I, E, mat_file, seq1, seq2, p):\n",
    "        Alignment.__init__(self, I, E, mat_file, seq1, seq2, p)\n",
    "        self.l = l\n",
    "\n",
    "        self.S.init_S_local()  # On initialise la matrice de scoring\n",
    "        self.S.set_letters_seq(\"-\"+self.seq1.get_acids(), \"-\"+self.seq2.get_acids())\n",
    "\n",
    "        self.zeros = []\n",
    "        self.found = False\n",
    "\n",
    "    def update_s_local(self, i, j, v_ij, w_ij):\n",
    "        \"\"\" détermine la valeur de S en fonction de V et W et de t\"\"\"\n",
    "\n",
    "        letters_ij = self.S.get_letters(i,j) # 'AB' par exemple\n",
    "        t_ij = self.t.get_acid_score(letters_ij[0], letters_ij[1])\n",
    "        s_ij = max( self.S.get_score(i-1,j-1) + t_ij, v_ij, w_ij, 0 )\n",
    "        self.S.set_score(i,j, s_ij)    \n",
    "\n",
    "    "
   ]
  },
  {
   "cell_type": "markdown",
   "metadata": {},
   "source": [
    "Tout d'abord, nous initialisons les matrices V, W et S. V et W sont de la meme forme que ceux utilisés pour l'alignement global: \n",
    "\n",
    "$$\n",
    "V = \\begin{bmatrix} -Inf & -Inf & ... \\\\ 0 \\\\ 0\\\\ ... \\end{bmatrix}  W = \\begin{bmatrix} 0 & 0 & ... \\\\ -Inf \\\\ -Inf\\\\ ... \\end{bmatrix} \n",
    "$$\n",
    "\n",
    "La matrice de scoring ne contiendra que des valeurs positives ou nulles. Si nous obtenons un score négatif, celui-ci devient 0. De ce fait, la matrice est initialisée de cette manière:\n",
    "\n",
    "$$\n",
    "S = \\begin{bmatrix} 0 & 0 & 0 & ... \\\\ 0 \\\\ 0\\\\ ... \\end{bmatrix} \n",
    "$$\n",
    "\n",
    "La méthode ci-dessous réalise cette initialisation:"
   ]
  },
  {
   "cell_type": "code",
   "execution_count": 18,
   "metadata": {},
   "outputs": [],
   "source": [
    "def init_S_local(self):\n",
    "    \"\"\" Initialise 1ere ligne et 1ere colonne de S pour la méthode locale \"\"\"\n",
    "\n",
    "    for i in range(self.m):\n",
    "        newline = []\n",
    "        if i == 0:\n",
    "            newline += [0]*self.n \n",
    "        else:\n",
    "            newline += [0] + (self.n-1)*[\"\"]\n",
    "\n",
    "        self.set_lign(newline)\n",
    "        \n",
    "MatScoring.init_S_local = init_S_local"
   ]
  },
  {
   "cell_type": "markdown",
   "metadata": {},
   "source": [
    "Une fois les matrices V, W et S initialisée, nous les calculons à l'aide de ces relations:\n",
    "\n",
    "$$V(i,j) = max\\left\\{ \\begin{array}{ll} S(i - 1, j) - I \\\\ V(i - 1, j) - E\n",
    "    \\end{array} \\right.$$\n",
    "\n",
    "$$W(i,j) = max\\left\\{ \\begin{array}{ll} S(i, j - 1) - I \\\\ W(i, j - 1) - E\n",
    "    \\end{array} \\right.$$\n",
    "\n",
    "$$S(i,j) = max\\left\\{ \\begin{array}{ll} S(i - 1, j - 1) + MatSubstitution(i, j) \\\\\n",
    "        V(i, j) \\\\ W(i, j) \\\\ 0 \\end{array} \\right.$$\n",
    "        \n",
    "Ceci est réalisé par la méthode ci-dessous:"
   ]
  },
  {
   "cell_type": "code",
   "execution_count": 19,
   "metadata": {},
   "outputs": [],
   "source": [
    "def compute_scoring(self, start_i, start_j):\n",
    "    \"\"\" ReCalcule la matrice de\n",
    "    scoring pour les alignements locaux  avec pénalité affine \n",
    "    après avoir trouvé un alignement local\n",
    "    \"\"\"\n",
    "\n",
    "    # ==================== CREATION SCORING ===========================\n",
    "\n",
    "    for i in range(start_i, self.m):\n",
    "        for j in range(start_j, self.n):\n",
    "            if (i,j) not in self.zeros:\n",
    "                v_ij = self.get_v(i, j)     # V(i,j)\n",
    "                self.V.set_score(i,j, v_ij)\n",
    "                w_ij = self.get_w(i, j)     # W(i,j)\n",
    "                self.W.set_score(i,j, w_ij)\n",
    "\n",
    "                self.update_s_local(i, j, v_ij, w_ij)\n",
    "\n",
    "    if self.p == 2:\n",
    "        print(\"la matrice de Scoring: \")\n",
    "        self.S.panda()\n",
    "    \n",
    "LocalAlignment.compute_scoring = compute_scoring"
   ]
  },
  {
   "cell_type": "markdown",
   "metadata": {},
   "source": [
    "Une fois la matrice de scoring, ainsi que les matrices de sauvegarde V et W sont calculées, nous cherchons la cellule dont le score est maximal. Nous utiliserons la méthode prédéfinie ci-dessous:"
   ]
  },
  {
   "cell_type": "code",
   "execution_count": 20,
   "metadata": {},
   "outputs": [],
   "source": [
    "def get_max(self):\n",
    "    \"\"\" Renvoie la position de l'élément maximal de la matrice \"\"\"\n",
    "\n",
    "    maxi = -float(\"inf\") # - inf \n",
    "    i, j = 0, 0\n",
    "    for line in range(self.m):\n",
    "        current_max = max(self.mat[line])\n",
    "        if current_max > maxi:\n",
    "            maxi = current_max\n",
    "            i = line \n",
    "            j = self.mat[line].index(current_max)\n",
    "\n",
    "    return (i,j)\n",
    "        \n",
    "Matrix.get_max = get_max"
   ]
  },
  {
   "cell_type": "markdown",
   "metadata": {},
   "source": [
    "Depuis ce maximum, nous réalisons un backtracking qui ne recherche qu'une solution. Celui-ci part donc de la cellule dont le score est maximal et remonte selon les mêmes conditions que l'alignement global. \n",
    "- Si contre, la cellule S(i,j) a été déterminé par le 0 lors du calcul du maximum (voir relations ci-dessus), nous nous arrêtons. \n",
    "- Si il ne rencontre pas de 0, il s'arrête lorsqu'il se trouve sur la première ligne ou sur la première colonne de la matrice score.\n",
    "\n",
    "Cette approche \"bottom-up\" est mise en oeuvre par les méthodes ci-dessous:"
   ]
  },
  {
   "cell_type": "code",
   "execution_count": 21,
   "metadata": {},
   "outputs": [],
   "source": [
    "def sol_found(self, i,j):\n",
    "    \"\"\" Détermine si on a fini un alignement local \"\"\"\n",
    "\n",
    "    return (i == 0 or j == 0 or self.S.get_score(i,j) == 0)\n",
    "\n",
    "LocalAlignment.sol_found = sol_found\n",
    "\n",
    "def bottom_up(self, i,j):\n",
    "    \"\"\" Remonte la matrice de scoring a partir du max de la matrice\n",
    "        de scoring jusqu'à un élément de la 1ere ligne ou 1ere colonne\n",
    "        ou un élément 0\n",
    "    \"\"\"\n",
    "    self.current_sol.append((i,j))\n",
    "    while not self.sol_found(i,j):\n",
    "        if self.is_previous(\"v\", i, j):    # haut\n",
    "            i-=1\n",
    "        elif self.is_previous(\"w\", i, j):  # gauche\n",
    "            j-=1\n",
    "        elif self.is_previous(\"s\", i, j):  # diagonale\n",
    "            i-=1\n",
    "            j-=1\n",
    "        if self.S.get_score(i,j) != 0:\n",
    "            self.current_sol.append((i,j))\n",
    "\n",
    "    self.all_solutions.append(self.current_sol)\n",
    "    self.zeros += self.current_sol\n",
    "    self.current_sol = []\n",
    "    \n",
    "LocalAlignment.bottom_up = bottom_up"
   ]
  },
  {
   "cell_type": "markdown",
   "metadata": {},
   "source": [
    "Après avoir enregistré la solution (le chemin), nous mettons les éléments sur lesquels nous sommes passés à 0."
   ]
  },
  {
   "cell_type": "code",
   "execution_count": 22,
   "metadata": {},
   "outputs": [],
   "source": [
    "def set_zero(self, positions):\n",
    "    \"\"\" Met à 0 les éléments donnés en paramètre dans la matrice \"\"\"\n",
    "\n",
    "    for pos in positions:\n",
    "        self.mat[pos[0]][pos[1]] = 0\n",
    "\n",
    "Matrix.set_zero = set_zero "
   ]
  },
  {
   "cell_type": "markdown",
   "metadata": {},
   "source": [
    "Enfin, étant donné que nous souhaitons connaître un certain nombre de solution, il nous faut répéter ce processus. Pour résumer, l'algorithme Smith-Waterman ci-dessous va réaliser les actions suivantes: <br>\n",
    "Tant que l'on n'a pas trouvé k solutions:\n",
    "\n",
    "- Trouver la cellule ayant le score maximal de la matrice de scoring préalablement calculée\n",
    "- Procéder à un \"bottom up\" pour trouver le chemin correspondant et en s'arrêtant soit en ayant rencontré un 0, soit en étant sur la première ligne ou la première colonne\n",
    "- Mettre à 0 ce nouveau chemin dans la matrice de scoring et dans les matrices V et W\n",
    "- Recalculer les 3 matrices S, V et W en tenant compte des 0 mis en place précédemment."
   ]
  },
  {
   "cell_type": "code",
   "execution_count": 23,
   "metadata": {},
   "outputs": [],
   "source": [
    "def Smith_Waterman(self):\n",
    "    self.compute_scoring(1,1)\n",
    "\n",
    "    for i in range(self.l):\n",
    "        current_max = self.S.get_max()\n",
    "        self.bottom_up(current_max[0], current_max[1])\n",
    "        if i == self.l-1: # Si on a trouvé l solutions\n",
    "            break\n",
    "        # une fois le backtrack fini, on met a 0 l'alignement \n",
    "        self.S.set_zero(self.all_solutions[-1])\n",
    "        self.V.set_zero(self.all_solutions[-1])\n",
    "        self.W.set_zero(self.all_solutions[-1])\n",
    "        if self.p == 2:\n",
    "            print(\"mise a 0: \")\n",
    "            self.S.panda()\n",
    "\n",
    "            print(\"recalcul de la matrice: \")\n",
    "        print(self.all_solutions[-1][-1][0], \" \",\n",
    "                             self.all_solutions[-1][-1][1])\n",
    "        self.compute_scoring(self.all_solutions[-1][-1][0], \\\n",
    "                             self.all_solutions[-1][-1][1])\n",
    "\n",
    "    R = Result(self.S, self.t, self.all_solutions, self.p)\n",
    "    return R.compute_result()\n",
    "    \n",
    "LocalAlignment.Smith_Waterman = Smith_Waterman"
   ]
  },
  {
   "cell_type": "markdown",
   "metadata": {},
   "source": [
    "## Résultats & Discussion\n",
    "\n",
    "### ADT Resultat\n",
    "\n",
    "Cette classe nous permet de mettre en place la solution calculée grâce aux algorithmes. Elle va d'abord rassembler les paires d'acides aminées en instaurant des gap selon les conditions décrites plus haut (sur base des matrices V et W)."
   ]
  },
  {
   "cell_type": "code",
   "execution_count": 24,
   "metadata": {},
   "outputs": [],
   "source": [
    "class Result:\n",
    "    \"\"\" Classe représentant un objet Résultat dans laquelle on va aligner\n",
    "        2 séquences selon la matrice de scoring obtenue\n",
    "    \"\"\"\n",
    "\n",
    "    def __init__(self, S, t, all_sol, p):\n",
    "        self.S = S  # matrice de scoring \n",
    "        self.t = t # matrice de substitution\n",
    "        self.all_solutions = all_sol\n",
    "        self.gap = \"-\"\n",
    "        self.p = p # Pour savoir si on veut print le résultat ou non\n",
    "        \n",
    "    def compute_result(self):\n",
    "        \"\"\" trouve les correspondances entre lettres de l'alignement \"\"\"\n",
    "        \n",
    "        scores_sim = [] # stocke le score de similarité des résultats\n",
    "\n",
    "        for sol in self.all_solutions:\n",
    "            used = {} # dictionnaire avec indices deja utilisés \n",
    "                    # clé = colonnes, valeur = lignes\n",
    "            res = []\n",
    "            for pos in range(len(sol)-1, -1, -1):\n",
    "                \n",
    "                letters = self.S.get_letters(sol[pos][0], sol[pos][1])\n",
    "                score = self.t.get_acid_score(letters[0], letters[1])\n",
    "                if sol[pos][0] in used.values():\n",
    "                    letters = self.gap + letters[1] # '-B' par ex\n",
    "                if sol[pos][1] in used.keys():\n",
    "                    letters = letters[0] + self.gap # 'B-' par ex\n",
    "\n",
    "                res.append((letters, score)) # On ajoute son score aussi\n",
    "\n",
    "                used[sol[pos][1]] = sol[pos][0]\n",
    "\n",
    "            #self.bind(res)\n",
    "            scores_sim.append(self.bind(res))\n",
    "        \n",
    "        return scores_sim"
   ]
  },
  {
   "cell_type": "markdown",
   "metadata": {},
   "source": [
    "Une méthode de la classe résulte nous permet de construire les similitudes entres les 2 séquences.\n",
    "\n",
    "- Si 2 acides aminés sont identiques, on ajoute \":\"\n",
    "- SI 2 acides aminés sont différents mais similaires d'un point de vue de l'évolution biologique, c'est-à-dire que leur score dans la matrice de substitution est positive, on ajoute un \".\"\n",
    "- Si il y a un gap (représenté par un tiret), ou si le score est négatif, on ajoute un espace \" \""
   ]
  },
  {
   "cell_type": "code",
   "execution_count": 25,
   "metadata": {},
   "outputs": [],
   "source": [
    "def bind(self, seq):\n",
    "    \"\"\" crée la liaison entre les 2 séquences (similarité, identité, ..)\n",
    "        ainsi que les scores et pourcentages\n",
    "    \"\"\"\n",
    "\n",
    "    # print(seq)\n",
    "    seq1, seq2, links = \"\", \"\", \"\"\n",
    "    for i in range(len(seq)):\n",
    "        # print(\"seq: \", seq[i][0], \" score: \", seq[i][1])\n",
    "        seq1 += seq[i][0][1]  # 2eme lettre\n",
    "        seq2 += seq[i][0][0]  # 1ere lettre\n",
    "\n",
    "        if seq1[i] == self.gap or seq2[i] == self.gap:\n",
    "            links += \" \"   # Pas de correspondance\n",
    "        else:\n",
    "            if seq1[i] == seq2[i]:\n",
    "                links += \":\"       # Identiques\n",
    "            elif seq[i][1] >= 0:   # Si le score est positif => similaires\n",
    "                links += \".\"\n",
    "            else:\n",
    "                links += \" \"\n",
    "                \n",
    "    similarity = ((links.count(\".\")+links.count(\":\"))/len(links)) * 100 # pourcentage de similarité\n",
    "    identity = (links.count(\":\")/len(links)) * 100 # pourcentage d'identité\n",
    "    \n",
    "    if self.p == 1 or self.p == 2:\n",
    "        self.print_result(seq1, seq2, links, similarity, identity)\n",
    "        \n",
    "    return similarity\n",
    "    \n",
    "Result.bind = bind"
   ]
  },
  {
   "cell_type": "markdown",
   "metadata": {},
   "source": [
    "Une fois que nous avons obtenu les paires d'acides aminées et leurs liens respectifs, nous pouvons l'afficher de manière élégante à l'aide de la méthode ci-dessous."
   ]
  },
  {
   "cell_type": "code",
   "execution_count": 26,
   "metadata": {},
   "outputs": [],
   "source": [
    "def print_result(self, seq1, seq2, links, similarity, identity):\n",
    "    \"\"\" Imprime de manière jolie les 2 séquences alignées \n",
    "        seq est de la forme: [('AB', scoreAB), .. ]\n",
    "    \"\"\"\n",
    "\n",
    "    print(\"\\n>>> Alignement: \")\n",
    "\n",
    "    i, j = 0, 0\n",
    "    while i < (len(seq1) // 60):\n",
    "        print(seq1[j:j+60]+\"\\n\"+links[j:j+60]+\"\\n\"+seq2[j:j+60]+\"\\n\\n\")\n",
    "        i += 1\n",
    "        j += 60\n",
    "    end = len(seq1) - len(seq2)%60\n",
    "    print(seq1[end:]+\"\\n\"+links[end:]+\"\\n\"+seq2[end:]+\"\\n\\n\")\n",
    "\n",
    "    print(\"==> similarité: {0} %\".format(similarity))\n",
    "    print(\"==> Identité: {0} %\".format(identity))\n",
    "    \n",
    "Result.print_result = print_result"
   ]
  },
  {
   "cell_type": "markdown",
   "metadata": {},
   "source": [
    "### Global\n",
    "\n",
    "Afin de comparer les résultats obtenus, nous utiliserons le site \"LALIGN\" qui procède également à des alignements de séquences. Nous utiliserons également le site \"UNIPROT\" qui répertorie un grand nombre de protéines.\n"
   ]
  },
  {
   "cell_type": "markdown",
   "metadata": {},
   "source": [
    "#### Exemple simple\n",
    "Voici un exemple simple d'alignement global de 2 petites séquences avec sa matrice de scoring: "
   ]
  },
  {
   "cell_type": "code",
   "execution_count": 27,
   "metadata": {},
   "outputs": [
    {
     "name": "stdout",
     "output_type": "stream",
     "text": [
      "Séquence 1 de longueur 8: \n",
      "Séquence 1 de l'exemple\n",
      "MGGETFA\n",
      "\n",
      "Séquence 2 de longueur 7: \n",
      "Séquence 2 de l'exemple\n",
      "GGVTTF\n",
      "\n",
      "matrice de substitution utilisée: blosum62.txt\n",
      "Pénalité de gap affine: I = 12 | E = 2\n",
      "\t-\tM\tG\tG\tE\tT\tF\tA\t\n",
      "\n",
      "-\t-inf\t-inf\t-inf\t-inf\t-inf\t-inf\t-inf\t-inf\t\n",
      "\n",
      "G\t0\t-24\t-26\t-28\t-30\t-32\t-34\t-36\t\n",
      "\n",
      "G\t0\t-15\t-18\t-20\t-30\t-32\t-35\t-34\t\n",
      "\n",
      "V\t0\t-17\t-9\t-12\t-22\t-25\t-27\t-29\t\n",
      "\n",
      "T\t0\t-19\t-11\t-12\t-14\t-22\t-26\t-27\t\n",
      "\n",
      "T\t0\t-21\t-13\t-14\t-13\t-9\t-21\t-23\t\n",
      "\n",
      "F\t0\t-23\t-15\t-16\t-15\t-8\t-11\t-21\t\n",
      "\n",
      "\n",
      "\n",
      "\t-\tM\tG\tG\tE\tT\tF\tA\t\n",
      "\n",
      "-\t-inf\t0\t0\t0\t0\t0\t0\t0\t\n",
      "\n",
      "G\t-inf\t-24\t-15\t-17\t-19\t-21\t-23\t-25\t\n",
      "\n",
      "G\t-inf\t-26\t-27\t-9\t-11\t-13\t-15\t-17\t\n",
      "\n",
      "V\t-inf\t-28\t-25\t-21\t-12\t-14\t-16\t-18\t\n",
      "\n",
      "T\t-inf\t-30\t-29\t-23\t-23\t-13\t-9\t-11\t\n",
      "\n",
      "T\t-inf\t-32\t-31\t-25\t-25\t-24\t-8\t-10\t\n",
      "\n",
      "F\t-inf\t-34\t-32\t-27\t-28\t-27\t-20\t-2\t\n",
      "\n",
      "\n",
      "\n",
      "*   -   M   G   G   E   T   F   A\n",
      "-   0 -12 -14 -16 -18 -20 -22 -24\n",
      "G -12  -3  -6  -8 -18 -20 -23 -22\n",
      "G -14 -15   3   0 -10 -13 -15 -17\n",
      "V -16 -13  -9   0  -2 -10 -14 -15\n",
      "T -18 -17 -11 -11  -1   3  -9 -11\n",
      "T -20 -19 -13 -13 -12   4   1  -9\n",
      "F -22 -20 -15 -16 -15  -8  10  -1\n",
      "\n",
      "\n",
      ">>> Alignement: \n",
      "MGGETFA\n",
      " :: :  \n",
      "-GGVTTF\n",
      "\n",
      "\n",
      "==> similarité: 42.857142857142854 %\n",
      "==> Identité: 42.857142857142854 %\n"
     ]
    },
    {
     "data": {
      "text/plain": [
       "[42.857142857142854]"
      ]
     },
     "execution_count": 27,
     "metadata": {},
     "output_type": "execute_result"
    }
   ],
   "source": [
    "seq1 = Sequence(\"Séquence 1 de l'exemple\",\"MGGETFA\")\n",
    "seq2 = Sequence(\"Séquence 2 de l'exemple\", \"GGVTTF\")\n",
    "#seq1 = Sequence(\"Séquence 1 de l'exemple\",\"AZAP\")\n",
    "#seq2 = Sequence(\"Séquence 2 de l'exemple\", \"AI\")\n",
    "G0 = GlobalAlignment(3, 12, 2, \"blosum62.txt\", seq1, seq2, 2)\n",
    "G0.Needleman_Wunsch()"
   ]
  },
  {
   "cell_type": "markdown",
   "metadata": {},
   "source": [
    "Comme nous pouvons le voir, cet exemple coincide avec celui présenté dans les slides du projet."
   ]
  },
  {
   "cell_type": "markdown",
   "metadata": {},
   "source": [
    "#### Séquences du fichier BRD-sequence\n",
    "Nous testons maintenant d'aligner certaines séquences d'acides aminés contenues dans le fichier BRD-sequence.fasta\n",
    "\n",
    "\n",
    "Données de UNIPROT :\n",
    "\n",
    "organisme de toutes les séquences: Homo sapiens (Human)\n",
    "- Séquence 1 (O60885) : \n",
    "    - proteine = Bromodomain-containing protein 4, \n",
    "    - gene = BRD4, \n",
    "- Séquence 2 (O60885) : idem que séquence 1\n",
    "- Séquence 3 (P21675) : \n",
    "    - proteine = Transcription initiation factor TFIID subunit 1, \n",
    "    - gene = TAF1\n",
    "- Séquence 4 (P21675) : idem que séquence 3\n",
    "- Séquence 5 (Q92831) : \n",
    "    - proteine = Histone acetyltransferase KAT2B,\n",
    "    - gene = KAT2B\n",
    "- Séquence 6 (Q86U86) : \n",
    "    - proteine = Protein polybromo-1\n",
    "    - gene = PBRM1\n",
    "- Séquence 7 (Q9NPI1) : \n",
    "    - proteine = Bromodomain-containing protein 7,\n",
    "    - gene = BRD7"
   ]
  },
  {
   "cell_type": "code",
   "execution_count": 28,
   "metadata": {},
   "outputs": [],
   "source": [
    "P = ParserSequence(\"BRD-sequence.fasta\")\n",
    "P.parse()"
   ]
  },
  {
   "cell_type": "markdown",
   "metadata": {},
   "source": [
    "#### Séquences les plus similaires parmi les séquences du fichier\n",
    "\n",
    "Nous calculons toutes les combinaisons de séquences du fichier \"BRD-protein.fasta\" et nous en sortons les 2 ayant le plus de similitudes. "
   ]
  },
  {
   "cell_type": "code",
   "execution_count": 29,
   "metadata": {},
   "outputs": [
    {
     "name": "stdout",
     "output_type": "stream",
     "text": [
      "le meilleur score est celui-ci:  78.87323943661971\n",
      "Séquence 1 de longueur 72: \n",
      ">sp|P21675|1397-1467\n",
      "\n",
      "RDLPNTYPFHTPVNAKVVKDYYKIITRPMDLQTLRENVRKRLYPSREEFREHLELIVKNSATYNGPKHSLT\n",
      "\n",
      "Séquence 2 de longueur 72: \n",
      ">sp|P21675|1520-1590\n",
      "\n",
      "MAVPDSWPFHHPVNKKFVPDYYKVIVNPMDLETIRKNISKHKYQSRESFLDDVNLILANSVKYNGPESQYT\n",
      "\n",
      "matrice de substitution utilisée: blosum62.txt\n",
      "Pénalité de gap affine: I = 12 | E = 2\n",
      "\n",
      ">>> Alignement: \n",
      "RDLPNTYPFHTPVNAKVVKDYYKIITRPMDLQTLRENVRKRLYPSREEFREHLELIVKNS\n",
      "  .:...::: ::: : : ::::.:..::::.:.:.:. :. : :::.: . ..::. ::\n",
      "MAVPDSWPFHHPVNKKFVPDYYKVIVNPMDLETIRKNISKHKYQSRESFLDDVNLILANS\n",
      "\n",
      "\n",
      "ATYNGPKHSLT\n",
      ". ::::. . :\n",
      "VKYNGPESQYT\n",
      "\n",
      "\n",
      "==> similarité: 78.87323943661971 %\n",
      "==> Identité: 50.70422535211267 %\n"
     ]
    }
   ],
   "source": [
    "def get_best_globalalignments():\n",
    "    best_score = [0, 0, 0] # les 2 derniers 0 accueilleront les numéros de séquences dont\n",
    "                             # le score est maximal\n",
    "    \n",
    "    for i in range(7):\n",
    "        for j in range(7):\n",
    "            if i != j: # on ne compare pas une séquence avec elle-même\n",
    "                #print(i, \"  \", j)\n",
    "                G_tmp = GlobalAlignment(1, 12, 2, \"blosum62.txt\", P.get_seq(i), P.get_seq(j), 0)\n",
    "                tmp_score = G_tmp.Needleman_Wunsch()\n",
    "                if tmp_score[0] > best_score[0]:\n",
    "                    best_score[0] = tmp_score[0]\n",
    "                    best_score[1] = i\n",
    "                    best_score[2] = j\n",
    "    return best_score\n",
    "best= get_best_globalalignments()\n",
    "\n",
    "print(\"le meilleur score est celui-ci: \", best[0])\n",
    "G1 = GlobalAlignment(1, 12, 2, \"blosum62.txt\", P.get_seq(best[1]), P.get_seq(best[2]), 1)\n",
    "G1 = G1.Needleman_Wunsch()\n",
    "\n",
    "\n"
   ]
  },
  {
   "cell_type": "markdown",
   "metadata": {},
   "source": [
    "En alignant toutes les combinaisons de séquences du fichier BRD-protein, nous constatons que les 2 séquences ayant le taux de similarité le plus élevé sont ceux ci-dessus. En effet, selon les données de UNIPROT, nous avons 2 \"Transcription initiation factor TFIID subunit 1\" et leur gênes sont identiques: TAF1. De plus, ces deux séquences proviennent d'un Humain. Les 2 séquences sont donc des sous-séquences issues d'une même longue séquence. La première va de 1397 à 1467 et la deuxième va de 1520 à 1590.\n",
    "\n",
    "Le taux de similarité est alors justifié."
   ]
  },
  {
   "cell_type": "markdown",
   "metadata": {},
   "source": [
    "#### Séquences identiques"
   ]
  },
  {
   "cell_type": "code",
   "execution_count": 30,
   "metadata": {},
   "outputs": [
    {
     "name": "stdout",
     "output_type": "stream",
     "text": [
      "Séquence 1 de longueur 74: \n",
      ">sp|O60885|75-147\n",
      "\n",
      "WKHQFAWPFQQPVDAVKLNLPDYYKIIKTPMDMGTIKKRLENNYYWNAQECIQDFNTMFTNCYIYNKPGDDIV\n",
      "\n",
      "Séquence 2 de longueur 74: \n",
      ">sp|O60885|75-147\n",
      "\n",
      "WKHQFAWPFQQPVDAVKLNLPDYYKIIKTPMDMGTIKKRLENNYYWNAQECIQDFNTMFTNCYIYNKPGDDIV\n",
      "\n",
      "matrice de substitution utilisée: blosum62.txt\n",
      "Pénalité de gap affine: I = 12 | E = 2\n",
      "\n",
      ">>> Alignement: \n",
      "WKHQFAWPFQQPVDAVKLNLPDYYKIIKTPMDMGTIKKRLENNYYWNAQECIQDFNTMFT\n",
      "::::::::::::::::::::::::::::::::::::::::::::::::::::::::::::\n",
      "WKHQFAWPFQQPVDAVKLNLPDYYKIIKTPMDMGTIKKRLENNYYWNAQECIQDFNTMFT\n",
      "\n",
      "\n",
      "NCYIYNKPGDDIV\n",
      ":::::::::::::\n",
      "NCYIYNKPGDDIV\n",
      "\n",
      "\n",
      "==> similarité: 100.0 %\n",
      "==> Identité: 100.0 %\n"
     ]
    },
    {
     "data": {
      "text/plain": [
       "[100.0]"
      ]
     },
     "execution_count": 30,
     "metadata": {},
     "output_type": "execute_result"
    }
   ],
   "source": [
    "G2 = GlobalAlignment(1, 12, 2, \"blosum62.txt\", P.get_seq(0), P.get_seq(0), 1)\n",
    "G2.Needleman_Wunsch()"
   ]
  },
  {
   "cell_type": "markdown",
   "metadata": {},
   "source": [
    "Comme prévu, lorsque nous procédons à l'alignement de 2 séquences identiques, ceux-ci ont un pourcentage de similarité de 100 %."
   ]
  },
  {
   "cell_type": "markdown",
   "metadata": {},
   "source": [
    "#### Séquences 1 et 2 du fichier BRD-sequences"
   ]
  },
  {
   "cell_type": "code",
   "execution_count": 31,
   "metadata": {},
   "outputs": [
    {
     "name": "stdout",
     "output_type": "stream",
     "text": [
      "Séquence 1 de longueur 74: \n",
      ">sp|O60885|75-147\n",
      "\n",
      "WKHQFAWPFQQPVDAVKLNLPDYYKIIKTPMDMGTIKKRLENNYYWNAQECIQDFNTMFTNCYIYNKPGDDIV\n",
      "\n",
      "Séquence 2 de longueur 74: \n",
      ">sp|O60885|368-440\n",
      "\n",
      "KHAAYAWPFYKPVDVEALGLHDYCDIIKHPMDMSTIKSKLEAREYRDAQEFGADVRLMFSNCYKYNPPDHEVV\n",
      "\n",
      "matrice de substitution utilisée: blosum62.txt\n",
      "Pénalité de gap affine: I = 12 | E = 2\n",
      "\n",
      ">>> Alignement: \n",
      "WKHQFAWPFQQPVDAVKLNLPDYYKIIKTPMDMGTIKKRLENNYYWNAQECIQDFNTMFT\n",
      "    .:::: .:::.  :.: ::  ::: ::::.:::..:: . : .:::   : . ::.\n",
      "KHAAYAWPFYKPVDVEALGLHDYCDIIKHPMDMSTIKSKLEAREYRDAQEFGADVRLMFS\n",
      "\n",
      "\n",
      "NCYIYNKPGDDIV\n",
      "::: :: :  ..:\n",
      "NCYKYNPPDHEVV\n",
      "\n",
      "\n",
      "==> similarité: 68.4931506849315 %\n",
      "==> Identité: 50.68493150684932 %\n"
     ]
    },
    {
     "data": {
      "text/plain": [
       "[68.4931506849315]"
      ]
     },
     "execution_count": 31,
     "metadata": {},
     "output_type": "execute_result"
    }
   ],
   "source": [
    "G3 = GlobalAlignment(1, 12, 2, \"blosum62.txt\", P.get_seq(0), P.get_seq(1), 1)\n",
    "G3.Needleman_Wunsch()\n"
   ]
  },
  {
   "attachments": {
    "seq0&1global.png": {
     "image/png": "[encoded data removed]"
    }
   },
   "cell_type": "markdown",
   "metadata": {},
   "source": [
    "![seq0&1global.png](attachment:seq0&1global.png)"
   ]
  },
  {
   "cell_type": "markdown",
   "metadata": {},
   "source": [
    "Nous pouvons constater que les résultats obtenus avec notre algorithme sont identiques à ceux de LALIGN.\n",
    "En effet, nous avons utilisé la même matrice de substitution \"BLOSUM62\" ainsi que des pénalités de gap identiques (I = 12 et E = 2). L'algorithme utilisé par LALIGN est Needleman-Wunsch.\n",
    "\n",
    "De plus, le taux de similitudes (68.5%) et le taux d'identité (50.7%) des 2 sont identiques.\n",
    "\n",
    "En regardant les données de UNIPROT, nous nous aperçevons que les 2 séquences appartiennent à la même famille: un bromodomaine contenant une protéine 4. Le gène est également identique: BRD4 et les 2 sont issus d'un organisme Humain."
   ]
  },
  {
   "cell_type": "markdown",
   "metadata": {},
   "source": [
    "#### Séquence 1 et 3 du fichier BRD-sequences"
   ]
  },
  {
   "cell_type": "code",
   "execution_count": 32,
   "metadata": {},
   "outputs": [
    {
     "name": "stdout",
     "output_type": "stream",
     "text": [
      "Séquence 1 de longueur 74: \n",
      ">sp|O60885|75-147\n",
      "\n",
      "WKHQFAWPFQQPVDAVKLNLPDYYKIIKTPMDMGTIKKRLENNYYWNAQECIQDFNTMFTNCYIYNKPGDDIV\n",
      "\n",
      "Séquence 2 de longueur 72: \n",
      ">sp|P21675|1397-1467\n",
      "\n",
      "RDLPNTYPFHTPVNAKVVKDYYKIITRPMDLQTLRENVRKRLYPSREEFREHLELIVKNSATYNGPKHSLT\n",
      "\n",
      "matrice de substitution utilisée: blosum62.txt\n",
      "Pénalité de gap affine: I = 12 | E = 2\n",
      "\n",
      ">>> Alignement: \n",
      "WKHQFAWPFQQPVDAVKLNLPDYYKIIKTPMDMGTIKKRLENNYYWNAQECIQDFNTMFT\n",
      "     ..::. ::.: :.   ::::::  :::. :........ : . .:  . .. .  \n",
      "RDLPNTYPFHTPVNA-KVVK-DYYKIITRPMDLQTLRENVRKRLYPSREEFREHLELIVK\n",
      "\n",
      "\n",
      "NCYIYNKPGDDIV\n",
      ":   :: :  ...\n",
      "NSATYNGPKHSLT\n",
      "\n",
      "\n",
      "==> similarité: 61.64383561643836 %\n",
      "==> Identité: 30.136986301369863 %\n"
     ]
    },
    {
     "data": {
      "text/plain": [
       "[61.64383561643836]"
      ]
     },
     "execution_count": 32,
     "metadata": {},
     "output_type": "execute_result"
    }
   ],
   "source": [
    "G4 = GlobalAlignment(1, 12, 2, \"blosum62.txt\", P.get_seq(0), P.get_seq(2), 1)\n",
    "G4.Needleman_Wunsch()"
   ]
  },
  {
   "attachments": {
    "seq0&2global.png": {
     "image/png": "[encoded data removed]"
    }
   },
   "cell_type": "markdown",
   "metadata": {},
   "source": [
    "![seq0&2global.png](attachment:seq0&2global.png)\n",
    "\n",
    "Avec ces 2 séquences (1er et 3ème du fichier BRD-sequences), nous obtenons le même résultat que LALIGN à peu de chose près. En effet, la sous séquence \"KVVK\" est entourée par 1 gap de chaque côté dans notre cas, tandis que d'après LALIGN, a la position 20, la sous-séquence \"KVVK\" est suivie de 2 gap. Cela peut être dû à la pénalité de gap affine choisie.\n",
    "\n",
    "En regardant les données de UNIPROT, nous avons 2 séquences différentes: \n",
    "- La première séquence est un \"Bromodomaine contenant une protéine 4\", et de gêne BRD4\n",
    "- La deuxième séquence est un \"Transcription initiation factor TFIID subunit 1\", et de gêne TAF1\n",
    "\n",
    "Pourtant, ils ont un taux de similarités de 61,6 %. nous poserons l'hypothèse que ces 2 séquences d'un organisme de type Humain sont assez similaires malgré qu'ils ne soient pas de la même famille."
   ]
  },
  {
   "cell_type": "markdown",
   "metadata": {},
   "source": [
    "### Local\n",
    "\n",
    "Afin de tester les solutions des alignements locaux, nous utiliserons également les sites \"LALIGN\" pour les alignements et \"UNIPROT\" pour les données liées au type de protéines.\n"
   ]
  },
  {
   "cell_type": "markdown",
   "metadata": {},
   "source": [
    "#### Exemple simple\n",
    "Voici un alignement local sur un exemple simple avec la matrice de substitution BLOSUM62 et une pénalité affine (  I = 4, E = 4) :"
   ]
  },
  {
   "cell_type": "code",
   "execution_count": 33,
   "metadata": {
    "scrolled": false
   },
   "outputs": [
    {
     "name": "stdout",
     "output_type": "stream",
     "text": [
      "Séquence 1 de longueur 10: \n",
      "Séquence 1 de l'exemple\n",
      "ISALIGNED\n",
      "\n",
      "Séquence 2 de longueur 9: \n",
      "Séquence 2 de l'exemple\n",
      "THISLINE\n",
      "\n",
      "matrice de substitution utilisée: blosum62.txt\n",
      "Pénalité de gap affine: I = 4 | E = 4\n",
      "la matrice de Scoring: \n",
      "*  -  I  S  A  L   I   G   N   E   D\n",
      "-  0  0  0  0  0   0   0   0   0   0\n",
      "T  0  0  1  0  0   0   0   0   0   0\n",
      "H  0  0  0  0  0   0   0   1   0   0\n",
      "I  0  4  0  0  2   4   0   0   0   0\n",
      "S  0  0  8  4  0   0   4   1   0   0\n",
      "L  0  2  4  7  8   4   0   1   0   0\n",
      "I  0  4  0  3  9  12   8   4   0   0\n",
      "N  0  0  5  1  5   8  12  14  10   6\n",
      "E  0  0  1  4  1   4   8  12  19  15\n",
      "\n",
      "mise a 0: \n",
      "*  -  I  S  A  L  I   G   N   E   D\n",
      "-  0  0  0  0  0  0   0   0   0   0\n",
      "T  0  0  1  0  0  0   0   0   0   0\n",
      "H  0  0  0  0  0  0   0   1   0   0\n",
      "I  0  0  0  0  2  4   0   0   0   0\n",
      "S  0  0  0  0  0  0   4   1   0   0\n",
      "L  0  2  4  7  0  4   0   1   0   0\n",
      "I  0  4  0  3  9  0   0   4   0   0\n",
      "N  0  0  5  1  5  8  12   0  10   6\n",
      "E  0  0  1  4  1  4   8  12   0  15\n",
      "\n",
      "recalcul de la matrice: \n",
      "3   1\n",
      "la matrice de Scoring: \n",
      "*  -  I  S  A  L  I  G  N  E  D\n",
      "-  0  0  0  0  0  0  0  0  0  0\n",
      "T  0  0  1  0  0  0  0  0  0  0\n",
      "H  0  0  0  0  0  0  0  1  0  0\n",
      "I  0  0  0  0  2  4  0  0  0  0\n",
      "S  0  0  0  0  0  0  4  1  0  0\n",
      "L  0  2  0  0  0  2  0  1  0  0\n",
      "I  0  4  0  0  2  0  0  0  0  0\n",
      "N  0  0  5  1  0  0  0  0  0  1\n",
      "E  0  0  1  4  0  0  0  0  0  2\n",
      "\n",
      "\n",
      ">>> Alignement: \n",
      "ISALIGNE\n",
      ":: :: ::\n",
      "IS-LI-NE\n",
      "\n",
      "\n",
      "==> similarité: 75.0 %\n",
      "==> Identité: 75.0 %\n",
      "\n",
      ">>> Alignement: \n",
      "IS\n",
      ":.\n",
      "IN\n",
      "\n",
      "\n",
      "==> similarité: 100.0 %\n",
      "==> Identité: 50.0 %\n"
     ]
    },
    {
     "data": {
      "text/plain": [
       "[75.0, 100.0]"
      ]
     },
     "execution_count": 33,
     "metadata": {},
     "output_type": "execute_result"
    }
   ],
   "source": [
    "P2 = ParserSequence(\"protein-sequences.fasta\")\n",
    "P2.parse()\n",
    "\n",
    "seq1 = Sequence(\"Séquence 1 de l'exemple\",\"ISALIGNED\")\n",
    "seq2 = Sequence(\"Séquence 2 de l'exemple\", \"THISLINE\")\n",
    "L0 = LocalAlignment(2, 4, 4, \"blosum62.txt\", seq1, seq2, 2)\n",
    "L0.Smith_Waterman()"
   ]
  },
  {
   "cell_type": "markdown",
   "metadata": {},
   "source": [
    "Comme nous pouvons le voir, cet exemple coincide avec celui présenté dans les slides du projet."
   ]
  },
  {
   "cell_type": "markdown",
   "metadata": {},
   "source": [
    "#### Séquences du fichier protein-sequences\n",
    "\n",
    "Nous allons maintenant tester l'alignement local sur différentes séquences du fichier protein-sequence.fasta\n",
    "\n",
    "Données de UNIPROT:\n",
    "\n",
    "Organisme de toutes les séquences: Homo sapiens (Human)\n",
    "- Séquence 1 (Q9H8M2) : \n",
    "    - proteine = Bromodomain-containing protein 9 \n",
    "    - gene = BRD9\n",
    "- Séquence 2 (O60885) :\n",
    "    - proteine = Bromodomain-containing protein 4\n",
    "    - gene = BRD4\n",
    "- Séquence 3 (P21675) :\n",
    "    - proteine = Transcription initiation factor TFIID subunit 1\n",
    "    - gene = TAF1\n",
    "- Séquence 4 (Q86U86) :\n",
    "    - proteine = Protein polybromo-1\n",
    "    - gene = PBRM1\n",
    "- Séquence 5 (Q9NPI1):\n",
    "    - proteine = Bromodomain-containing protein 7\n",
    "    - gene = BRD7"
   ]
  },
  {
   "cell_type": "markdown",
   "metadata": {},
   "source": [
    "#### Séquences identiques\n",
    "\n",
    "Nous testons l'alignement local sur 2 séquences identiques :"
   ]
  },
  {
   "cell_type": "code",
   "execution_count": 34,
   "metadata": {},
   "outputs": [
    {
     "name": "stdout",
     "output_type": "stream",
     "text": [
      "Séquence 1 de longueur 598: \n",
      ">sp|Q9H8M2|BRD9_HUMAN Bromodomain-containing protein 9 OS=Homo sapiens OX=9606 GN=BRD9 PE=1 SV=2\n",
      "\n",
      "MGKKHKKHKAEWRSSYEDYADKPLEKPLKLVLKVGGSEVTELSGSGHDSSYYDDRSDHERERHKEKKKKKKKKSEKEKHLDDEERRKRKEEKKRKREREHCDTEGEADDFDPGKKVEVEPPPDRPVRACRTQPAENESTPIQQLLEHFLRQLQRKDPHGFFAFPVTDAIAPGYSMIIKHPMDFGTMKDKIVANEYKSVTEFKADFKLMCDNAMTYNRPDTVYYKLAKKILHAGFKMMSKQAALLGNEDTAVEEPVPEVVPVQVETAKKSKKPSREVISCMFEPEGNACSLTDSTAEEHVLALVEHAADEARDRINRFLPGGKMGYLKRNGDGSLLYSVVNTAEPDADEEETHPVDLSSLSSKLLPGFTTLGFKDERRNKVTFLSSATTALSMQNNSVFGDLKSDEMELLYSAYGDETGVQCALSLQEFVKDAGSYSKKVVDDLLDQITGGDHSRTLFQLKQRRNVPMKPPDEAKVGDTLGDSSSSVLEFMSMKSYPDVSVDISMLSSLGKVKKELDPDDSHLNLDETTKLLQDLHEAQAERGGSRPSSNLSSLSNASERDQHHLGSPSRLSVGEQPDVTHDPYEFLQSPEPAASAKT\n",
      "\n",
      "Séquence 2 de longueur 598: \n",
      ">sp|Q9H8M2|BRD9_HUMAN Bromodomain-containing protein 9 OS=Homo sapiens OX=9606 GN=BRD9 PE=1 SV=2\n",
      "\n",
      "MGKKHKKHKAEWRSSYEDYADKPLEKPLKLVLKVGGSEVTELSGSGHDSSYYDDRSDHERERHKEKKKKKKKKSEKEKHLDDEERRKRKEEKKRKREREHCDTEGEADDFDPGKKVEVEPPPDRPVRACRTQPAENESTPIQQLLEHFLRQLQRKDPHGFFAFPVTDAIAPGYSMIIKHPMDFGTMKDKIVANEYKSVTEFKADFKLMCDNAMTYNRPDTVYYKLAKKILHAGFKMMSKQAALLGNEDTAVEEPVPEVVPVQVETAKKSKKPSREVISCMFEPEGNACSLTDSTAEEHVLALVEHAADEARDRINRFLPGGKMGYLKRNGDGSLLYSVVNTAEPDADEEETHPVDLSSLSSKLLPGFTTLGFKDERRNKVTFLSSATTALSMQNNSVFGDLKSDEMELLYSAYGDETGVQCALSLQEFVKDAGSYSKKVVDDLLDQITGGDHSRTLFQLKQRRNVPMKPPDEAKVGDTLGDSSSSVLEFMSMKSYPDVSVDISMLSSLGKVKKELDPDDSHLNLDETTKLLQDLHEAQAERGGSRPSSNLSSLSNASERDQHHLGSPSRLSVGEQPDVTHDPYEFLQSPEPAASAKT\n",
      "\n",
      "matrice de substitution utilisée: blosum62.txt\n",
      "Pénalité de gap affine: I = 12 | E = 2\n",
      "\n",
      ">>> Alignement: \n",
      "MGKKHKKHKAEWRSSYEDYADKPLEKPLKLVLKVGGSEVTELSGSGHDSSYYDDRSDHER\n",
      "::::::::::::::::::::::::::::::::::::::::::::::::::::::::::::\n",
      "MGKKHKKHKAEWRSSYEDYADKPLEKPLKLVLKVGGSEVTELSGSGHDSSYYDDRSDHER\n",
      "\n",
      "\n",
      "ERHKEKKKKKKKKSEKEKHLDDEERRKRKEEKKRKREREHCDTEGEADDFDPGKKVEVEP\n",
      "::::::::::::::::::::::::::::::::::::::::::::::::::::::::::::\n",
      "ERHKEKKKKKKKKSEKEKHLDDEERRKRKEEKKRKREREHCDTEGEADDFDPGKKVEVEP\n",
      "\n",
      "\n",
      "PPDRPVRACRTQPAENESTPIQQLLEHFLRQLQRKDPHGFFAFPVTDAIAPGYSMIIKHP\n",
      "::::::::::::::::::::::::::::::::::::::::::::::::::::::::::::\n",
      "PPDRPVRACRTQPAENESTPIQQLLEHFLRQLQRKDPHGFFAFPVTDAIAPGYSMIIKHP\n",
      "\n",
      "\n",
      "MDFGTMKDKIVANEYKSVTEFKADFKLMCDNAMTYNRPDTVYYKLAKKILHAGFKMMSKQ\n",
      "::::::::::::::::::::::::::::::::::::::::::::::::::::::::::::\n",
      "MDFGTMKDKIVANEYKSVTEFKADFKLMCDNAMTYNRPDTVYYKLAKKILHAGFKMMSKQ\n",
      "\n",
      "\n",
      "AALLGNEDTAVEEPVPEVVPVQVETAKKSKKPSREVISCMFEPEGNACSLTDSTAEEHVL\n",
      "::::::::::::::::::::::::::::::::::::::::::::::::::::::::::::\n",
      "AALLGNEDTAVEEPVPEVVPVQVETAKKSKKPSREVISCMFEPEGNACSLTDSTAEEHVL\n",
      "\n",
      "\n",
      "ALVEHAADEARDRINRFLPGGKMGYLKRNGDGSLLYSVVNTAEPDADEEETHPVDLSSLS\n",
      "::::::::::::::::::::::::::::::::::::::::::::::::::::::::::::\n",
      "ALVEHAADEARDRINRFLPGGKMGYLKRNGDGSLLYSVVNTAEPDADEEETHPVDLSSLS\n",
      "\n",
      "\n",
      "SKLLPGFTTLGFKDERRNKVTFLSSATTALSMQNNSVFGDLKSDEMELLYSAYGDETGVQ\n",
      "::::::::::::::::::::::::::::::::::::::::::::::::::::::::::::\n",
      "SKLLPGFTTLGFKDERRNKVTFLSSATTALSMQNNSVFGDLKSDEMELLYSAYGDETGVQ\n",
      "\n",
      "\n",
      "CALSLQEFVKDAGSYSKKVVDDLLDQITGGDHSRTLFQLKQRRNVPMKPPDEAKVGDTLG\n",
      "::::::::::::::::::::::::::::::::::::::::::::::::::::::::::::\n",
      "CALSLQEFVKDAGSYSKKVVDDLLDQITGGDHSRTLFQLKQRRNVPMKPPDEAKVGDTLG\n",
      "\n",
      "\n",
      "DSSSSVLEFMSMKSYPDVSVDISMLSSLGKVKKELDPDDSHLNLDETTKLLQDLHEAQAE\n",
      "::::::::::::::::::::::::::::::::::::::::::::::::::::::::::::\n",
      "DSSSSVLEFMSMKSYPDVSVDISMLSSLGKVKKELDPDDSHLNLDETTKLLQDLHEAQAE\n",
      "\n",
      "\n",
      "RGGSRPSSNLSSLSNASERDQHHLGSPSRLSVGEQPDVTHDPYEFLQSPEPAASAKT\n",
      ":::::::::::::::::::::::::::::::::::::::::::::::::::::::::\n",
      "RGGSRPSSNLSSLSNASERDQHHLGSPSRLSVGEQPDVTHDPYEFLQSPEPAASAKT\n",
      "\n",
      "\n",
      "==> similarité: 100.0 %\n",
      "==> Identité: 100.0 %\n"
     ]
    },
    {
     "data": {
      "text/plain": [
       "[100.0]"
      ]
     },
     "execution_count": 34,
     "metadata": {},
     "output_type": "execute_result"
    }
   ],
   "source": [
    "L1 = LocalAlignment(1, 12, 2, \"blosum62.txt\", P2.get_seq(0), P2.get_seq(0), 1)\n",
    "L1.Smith_Waterman()"
   ]
  },
  {
   "cell_type": "markdown",
   "metadata": {},
   "source": [
    "Comme prévu, le taux de similarité est maximal étant donné qu'ils sont identiques."
   ]
  },
  {
   "cell_type": "markdown",
   "metadata": {},
   "source": [
    "#### Séquences les plus similaires parmi le fichier protein-sequences\n",
    "Nous essayons à présent de déterminer les séquences du fichier protein-sequences.fasta les plus similaires avec l'alignement local :"
   ]
  },
  {
   "cell_type": "code",
   "execution_count": 35,
   "metadata": {
    "scrolled": false
   },
   "outputs": [],
   "source": [
    "def get_best_localalignments():\n",
    "    best_score = [0, 0, 0] # les 2 derniers 0 accueilleront les numéros de séquences dont\n",
    "                             # le score est maximal\n",
    "    \n",
    "    for i in range(5):\n",
    "        for j in range(5):\n",
    "            if i != j: # on ne compare pas une séquence avec elle-même\n",
    "                #print(i, \"  \", j)\n",
    "                L_tmp = LocalAlignment(1, 12, 2, \"blosum62.txt\", P2.get_seq(i), P2.get_seq(j), 0)\n",
    "                tmp_score = L_tmp.Smith_Waterman()\n",
    "                if tmp_score[0] > best_score[0]:\n",
    "                    best_score[0] = tmp_score[0]\n",
    "                    best_score[1] = i\n",
    "                    best_score[2] = j\n",
    "    return best_score\n",
    "#best= get_best_localalignments()\n",
    "\n",
    "#print(\"le meilleur score est celui-ci: \", best[0])\n",
    "#L2 = LocalAlignment(1, 12, 2, \"blosum62.txt\", P2.get_seq(best[1]), P2.get_seq(best[2]), 1)\n",
    "#L2 = L2.Smith_Waterman()"
   ]
  },
  {
   "cell_type": "markdown",
   "metadata": {},
   "source": [
    "Nous constatons que les 2 séquences ayant le taux de similarité le plus élevé, ne sont pas de la même famille :\n",
    "- La première séquence est un \"Transcription initiation factor TFIID subunit 1\", et avec un gêne de type TAF1\n",
    "- La deuxième séquence est un \"bromodomaine contenant des protéines 7\", avec un gêne de type BRD7\n",
    "\n",
    "Peut-être ont-ils des fonctionnalités similaires au sein de l'organisme humain ?\n"
   ]
  },
  {
   "cell_type": "markdown",
   "metadata": {},
   "source": [
    "#### Séquences 1 et 2 du fichier protein-sequences"
   ]
  },
  {
   "cell_type": "code",
   "execution_count": 36,
   "metadata": {
    "scrolled": false
   },
   "outputs": [
    {
     "name": "stdout",
     "output_type": "stream",
     "text": [
      "Séquence 1 de longueur 598: \n",
      ">sp|Q9H8M2|BRD9_HUMAN Bromodomain-containing protein 9 OS=Homo sapiens OX=9606 GN=BRD9 PE=1 SV=2\n",
      "\n",
      "MGKKHKKHKAEWRSSYEDYADKPLEKPLKLVLKVGGSEVTELSGSGHDSSYYDDRSDHERERHKEKKKKKKKKSEKEKHLDDEERRKRKEEKKRKREREHCDTEGEADDFDPGKKVEVEPPPDRPVRACRTQPAENESTPIQQLLEHFLRQLQRKDPHGFFAFPVTDAIAPGYSMIIKHPMDFGTMKDKIVANEYKSVTEFKADFKLMCDNAMTYNRPDTVYYKLAKKILHAGFKMMSKQAALLGNEDTAVEEPVPEVVPVQVETAKKSKKPSREVISCMFEPEGNACSLTDSTAEEHVLALVEHAADEARDRINRFLPGGKMGYLKRNGDGSLLYSVVNTAEPDADEEETHPVDLSSLSSKLLPGFTTLGFKDERRNKVTFLSSATTALSMQNNSVFGDLKSDEMELLYSAYGDETGVQCALSLQEFVKDAGSYSKKVVDDLLDQITGGDHSRTLFQLKQRRNVPMKPPDEAKVGDTLGDSSSSVLEFMSMKSYPDVSVDISMLSSLGKVKKELDPDDSHLNLDETTKLLQDLHEAQAERGGSRPSSNLSSLSNASERDQHHLGSPSRLSVGEQPDVTHDPYEFLQSPEPAASAKT\n",
      "\n",
      "Séquence 2 de longueur 1363: \n",
      ">sp|O60885|BRD4_HUMAN Bromodomain-containing protein 4 OS=Homo sapiens OX=9606 GN=BRD4 PE=1 SV=2\n",
      "\n",
      "MSAESGPGTRLRNLPVMGDGLETSQMSTTQAQAQPQPANAASTNPPPPETSNPNKPKRQTNQLQYLLRVVLKTLWKHQFAWPFQQPVDAVKLNLPDYYKIIKTPMDMGTIKKRLENNYYWNAQECIQDFNTMFTNCYIYNKPGDDIVLMAEALEKLFLQKINELPTEETEIMIVQAKGRGRGRKETGTAKPGVSTVPNTTQASTPPQTQTPQPNPPPVQATPHPFPAVTPDLIVQTPVMTVVPPQPLQTPPPVPPQPQPPPAPAPQPVQSHPPIIAATPQPVKTKKGVKRKADTTTPTTIDPIHEPPSLPPEPKTTKLGQRRESSRPVKPPKKDVPDSQQHPAPEKSSKVSEQLKCCSGILKEMFAKKHAAYAWPFYKPVDVEALGLHDYCDIIKHPMDMSTIKSKLEAREYRDAQEFGADVRLMFSNCYKYNPPDHEVVAMARKLQDVFEMRFAKMPDEPEEPVVAVSSPAVPPPTKVVAPPSSSDSSSDSSSDSDSSTDDSEEERAQRLAELQEQLKAVHEQLAALSQPQQNKPKKKEKDKKEKKKEKHKRKEEVEENKKSKAKEPPPKKTKKNNSSNSNVSKKEPAPMKSKPPPTYESEEEDKCKPMSYEEKRQLSLDINKLPGEKLGRVVHIIQSREPSLKNSNPDEIEIDFETLKPSTLRELERYVTSCLRKKRKPQAEKVDVIAGSSKMKGFSSSESESSSESSSSDSEDSETEMAPKSKKKGHPGREQKKHHHHHHQQMQQAPAPVPQQPPPPPQQPPPPPPPQQQQQPPPPPPPPSMPQQAAPAMKSSPPPFIATQVPVLEPQLPGSVFDPIGHFTQPILHLPQPELPPHLPQPPEHSTPPHLNQHAVVSPPALHNALPQQPSRPSNRAAALPPKPARPPAVSPALTQTPLLPQPPMAQPPQVLLEDEEPPAPPLTSMQMQLYLQQLQKVQPPTPLLPSVKVQSQPPPPLPPPPHPSVQQQLQQQPPPPPPPQPQPPPQQQHQPPPRPVHLQPMQFSTHIQQPPPPQGQQPPHPPPGQQPPPPQPAKPQQVIQHHHSPRHHKSDPYSTGHLREAPSPLMIHSPQMSQFQSLTHQSPPQQNVQPKKQELRAASVVQPQPLVVVKEEKIHSPIIRSEPFSPSLRPEPPKHPESIKAPVHLPQRPEMKPVDVGRPVIRPPEQNAPPPGAPDKDKQKQEPKTPVAPKKDLKIKNMGSWASLVQKHPTTPSSTAKSSSDSFEQFRRAAREKEEREKALKAQAEHAEKEKERLRQERMRSREDEDALEQARRAHEEARRRQEQQQQQRQEQQQQQQQQAAAVAAAATPQAQSSQPQSMLDQQRELARKREQERRRREAMAATIDMNFQSDLLSIFEENLF\n",
      "\n",
      "matrice de substitution utilisée: blosum62.txt\n",
      "Pénalité de gap affine: I = 12 | E = 2\n",
      "330   121\n",
      "37   112\n",
      "\n",
      ">>> Alignement: \n",
      "PPDRPVRACRTQPAENESTPIQQLLE---HFLRQLQRKDPHGFFAFP----V-TDAIAPG\n",
      ":: . :   . .:: ..:. ... :.    .:...  :  :. .:.:    : ..:..  \n",
      "PPKKDVPDSQQHPAPEKSSKVSEQLKCCSGILKEMFAKK-HAAYAWPFYKPVDVEALGLH\n",
      "\n",
      "\n",
      "-YSMIIKHPMDFGTMKDKIVANEYKSVTEFKADFKLMCDNAMTYNRPDTVYYKLAKKILH\n",
      " :  :::::::..:.:.:. :.::... :: :: .:: .:.  :: ::     .:.:.  \n",
      "DYCDIIKHPMDMSTIKSKLEAREYRDAQEFGADVRLMFSNCYKYNPPDHEVVAMARKLQD\n",
      "\n",
      "\n",
      "AGFKMMSKQAALLGNEDTAVEEPVPEVVPVQVETAKKSKKPSREVISCMFEPEGNACSLT\n",
      ". :.:   . : .   :   ::::  :    :    :   :  .  :   . .... : :\n",
      "V-FEM---RFAKMP--DEP-EEPVVAVSSPAVPPPTKVVAPPSSSDSSS-DSSSDSDSST\n",
      "\n",
      "\n",
      "DSTAEEHVLALVE\n",
      ":.. ::..  :.:\n",
      "DDSEEERAQRLAE\n",
      "\n",
      "\n",
      "==> similarité: 58.03108808290155 %\n",
      "==> Identité: 31.606217616580313 %\n",
      "\n",
      ">>> Alignement: \n",
      "PGKKVEVEPPPDRPVRACRTQPAENESTPIQQLLEHFLRQLQRKDPHGFFAFPVTDAIA-\n",
      ":.. ....:::  :  .  ..: ..... .: ::.  :. : . .    :  ::  .   \n",
      "PANAASTNPPP--PETSNPNKP-KRQTNQLQYLLRVVLKTLWKHQFAWPFQQPVDAVKLN\n",
      "\n",
      "\n",
      "-PGYSMIIKHPMDFGTMKDKIVANEYKSVTEFKADFKLMCDNAMTYNRP\n",
      " : :  ::: :::.::.: ..  : : .. :   ::. :  :.  ::.:\n",
      "LPDYYKIIKTPMDMGTIKKRLENNYYWNAQECIQDFNTMFTNCYIYNKP\n",
      "\n",
      "\n",
      "==> similarité: 58.71559633027523 %\n",
      "==> Identité: 32.11009174311927 %\n",
      "\n",
      ">>> Alignement: \n",
      "PLKLVLKVGGSEVTELSGSGHDSSYYDDRSDHERERHKEKKKKKKKKSEKEKHLDDEERR\n",
      ": :.:   ..:. .. :.:  :::  :: .... .:  : ... :   :.   :.. ...\n",
      "PTKVVAPPSSSDSSSDSSSDSDSST-DDSEEERAQRLAELQEQLKAVHEQLAALSQPQQN\n",
      "\n",
      "\n",
      "KRKEEKKRKREREHCDTEGEADDFDPGKKVEVEPPPDRPVR\n",
      ": :...: :.:..  . . . .. . .:: ... :: . ..\n",
      "KPKKKEKDKKEKKK-EKHKRKEEVEENKKSKAKEPPPKKTK\n",
      "\n",
      "\n",
      "==> similarité: 64.35643564356435 %\n",
      "==> Identité: 24.752475247524753 %\n"
     ]
    },
    {
     "data": {
      "text/plain": [
       "[58.03108808290155, 58.71559633027523, 64.35643564356435]"
      ]
     },
     "execution_count": 36,
     "metadata": {},
     "output_type": "execute_result"
    }
   ],
   "source": [
    "L3 = LocalAlignment(3, 12, 2, \"blosum62.txt\", P2.get_seq(0), P2.get_seq(1), 1)\n",
    "L3.Smith_Waterman()\n"
   ]
  },
  {
   "attachments": {
    "seq0&1local.png": {
     "image/png": "[encoded data removed]"
    }
   },
   "cell_type": "markdown",
   "metadata": {},
   "source": [
    "![seq0&1local.png](attachment:seq0&1local.png)"
   ]
  },
  {
   "cell_type": "markdown",
   "metadata": {},
   "source": [
    "Nous constatons que les résultats ne sont pas les mêmes que ceux de LALIGN. Les 2 résultats ont par ailleurs utilisées les mêmes matrices de substitution BLOSUM62 et des pénalités de gap affine I = 12 et E = 2\n",
    "\n",
    "Notre alignement contient le sous alignement que nous donnes LALIGN. Par exemple, Notre première solution part de \"PPDR\" et finit en \"ALVE\" tandis que la première solution de LALIGN s'arrête bien avant en \"AKKI\". La position des gap change également. Par exemple, après la section 160 de la première solution, nous constatons que le V est suivi de 3 gaps dans LALIGN tandis que notre V est précédé de plusieurs gap.\n",
    "\n",
    "La 3ème solution par contre, est identique à celle de LALIGN à peu près. Dans celui-ci, aucun gap n'a été introduit du côté de LALIGN et 2 sont apparus dans notre solution.\n",
    "\n",
    "D'après les données d'UNIPROT, ces 2 séquences sont des bromodomaines mais contenant des protéines de type différentes (9 pour la première et 4 pour la deuxième. Ces séquences sont donc relativement similaires."
   ]
  },
  {
   "cell_type": "markdown",
   "metadata": {},
   "source": [
    "## Conclusion\n",
    "\n",
    "Pour conclure, notre problème était d'aligner des séquences d'acides aminés de sorte à trouver leurs similitudes maximales dissimulées et déterminer si celles-ci sont homologues (2 gènes ou 2 protéines qui partagent un ancêtre commun). Pour ce faire, nous avons utilisé les algorithmes de Needleman-Wunsch et Smith-Waterman pour les alignements globaux et locaux. \n",
    "\n",
    "Nous avons constaté que fatalement, lorsque 2 séquences appartiennent à la même famille (2 bromodomaines contenant des protéines 4 par exemple) ainsi que la meme gêne, l'alignement global ou local donnait un taux de similarité elevé. D'autre part, certains alignements concernaient 2 séquences n'étant pas de la même famille. Le taux de similarités était tout de même élevé, ce qui laisse croire qu'ils ont des fonctionnalités similaires. \n",
    "\n"
   ]
  }
 ],
 "metadata": {
  "celltoolbar": "Slideshow",
  "kernelspec": {
   "display_name": "Python 3",
   "language": "python",
   "name": "python3"
  },
  "language_info": {
   "codemirror_mode": {
    "name": "ipython",
    "version": 3
   },
   "file_extension": ".py",
   "mimetype": "text/x-python",
   "name": "python",
   "nbconvert_exporter": "python",
   "pygments_lexer": "ipython3",
   "version": "3.7.0"
  }
 },
 "nbformat": 4,
 "nbformat_minor": 2
}
